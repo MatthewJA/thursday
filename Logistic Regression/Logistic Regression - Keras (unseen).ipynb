{
 "cells": [
  {
   "cell_type": "code",
   "execution_count": 1,
   "metadata": {},
   "outputs": [
    {
     "name": "stderr",
     "output_type": "stream",
     "text": [
      "Using TensorFlow backend.\n"
     ]
    }
   ],
   "source": [
    "import numpy as np\n",
    "from scipy import *\n",
    "import os\n",
    "import h5py\n",
    "import keras as k\n",
    "from keras.layers import Dense, Activation\n",
    "from keras.optimizers import SGD\n",
    "from keras.models import Sequential\n",
    "from keras.losses import categorical_crossentropy\n",
    "from sklearn.utils import shuffle\n",
    "from keras.utils import np_utils\n",
    "import matplotlib.pyplot as plt\n",
    "from keras import *\n",
    "from astropy.io import fits"
   ]
  },
  {
   "cell_type": "code",
   "execution_count": 2,
   "metadata": {},
   "outputs": [],
   "source": [
    "# Setting directory paths \n",
    "root_dir = os.getcwd()\n",
    "\n",
    "# Loading data\n",
    "data = h5py.File(r'C:\\\\Users\\\\fires\\\\Desktop\\\\CSIRO\\\\thursday\\\\Logistic Regression\\\\data.h5', 'r')\n",
    "\n",
    "images = np.asarray(data['images'])\n",
    "labels = data['labels']"
   ]
  },
  {
   "cell_type": "code",
   "execution_count": 3,
   "metadata": {},
   "outputs": [],
   "source": [
    "# Define function to crop off 'cut' number of pixels on both sides on both axixs\n",
    "def crop_center(img,cut):\n",
    "    y = np.shape(img)[1]\n",
    "    x = np.shape(img)[2]\n",
    "    if x != y:\n",
    "        print (\"The image is not a perfect sqaure. This is bad. Fix it \")\n",
    "        \n",
    "    start = cut\n",
    "    end = x-cut\n",
    "    return img[:, start:end,start:end]\n",
    "\n",
    "def crop_center_single(img,cut):\n",
    "    y = np.shape(img)[0]\n",
    "    x = np.shape(img)[1]\n",
    "    if x != y:\n",
    "        print (\"The image is not a perfect sqaure. This is bad. Fix it \")\n",
    "        \n",
    "    start = cut\n",
    "    end = x-cut\n",
    "    return img[start:end,start:end]"
   ]
  },
  {
   "cell_type": "code",
   "execution_count": 4,
   "metadata": {},
   "outputs": [],
   "source": [
    "# Reducing Image Size\n",
    "images_cut = crop_center(images,66)\n",
    "images_cut = np.asarray(images_cut)"
   ]
  },
  {
   "cell_type": "code",
   "execution_count": 5,
   "metadata": {},
   "outputs": [],
   "source": [
    "# Reshape data\n",
    "\n",
    "img = np.reshape(images_cut, (-1, 18225))\n",
    "labels = np.reshape(labels, (-1,1))"
   ]
  },
  {
   "cell_type": "code",
   "execution_count": 6,
   "metadata": {},
   "outputs": [],
   "source": [
    "##### This section is horrendous, I know #####\n",
    "\n",
    "# Normalising the number of examples for each class\n",
    "nb_FRI = int(np.asarray((np.where(labels == False))).size/2)\n",
    "nb_FRII = int(np.asarray((np.where(labels == True))).size/2)\n",
    "\n",
    "# Defining the maximum number of samples for each class\n",
    "if nb_FRI >= nb_FRII:\n",
    "    cutoff = nb_FRII\n",
    "elif nb_FRI < nb_FRII:\n",
    "        cutoff = nb_FRI\n",
    "\n",
    "# seperating images and labels by class\n",
    "FRI = img[cutoff:nb_FRI, :]\n",
    "FRI_labels = labels[cutoff:nb_FRI]\n"
   ]
  },
  {
   "cell_type": "code",
   "execution_count": 7,
   "metadata": {},
   "outputs": [],
   "source": [
    "#imgs = np.reshape(FRI, (-1, 135, 135))\n",
    "\n",
    "#for n in range(0, imgs.shape[0]):\n",
    "   #plt.imshow(imgs[n,:,:], cmap='gray', shape=(135, 135))\n",
    "   #print (n)\n",
    "   #print (FRI_labels[n])\n",
    "   #plt.show()"
   ]
  },
  {
   "cell_type": "code",
   "execution_count": 8,
   "metadata": {},
   "outputs": [],
   "source": [
    "# load fake sample\n",
    "fit_file = fits.open('fr.fits')\n",
    "fit_img = np.asarray(fit_file[0].data)\n",
    "fit_img.shape\n",
    "fit_cut = crop_center_single(fit_img, 32)\n",
    "fit_shaved = fit_cut[1:,1:]\n",
    "fit_flattened = np.reshape(fit_shaved, (-1, 18225))"
   ]
  },
  {
   "cell_type": "code",
   "execution_count": 20,
   "metadata": {},
   "outputs": [],
   "source": [
    "# Split data into training and testing sets\n",
    "test_x = FRI\n",
    "test_yy = FRI_labels"
   ]
  },
  {
   "cell_type": "code",
   "execution_count": 10,
   "metadata": {},
   "outputs": [],
   "source": [
    "# Convert class vectors to binary class matrices\n",
    "test_y = np_utils.to_categorical(test_yy, 2)"
   ]
  },
  {
   "cell_type": "code",
   "execution_count": 16,
   "metadata": {},
   "outputs": [],
   "source": [
    "\n",
    "# load json and create model\n",
    "json_file = open('model.json', 'r')\n",
    "loaded_model_json = json_file.read()\n",
    "json_file.close()\n",
    "loaded_model = k.models.model_from_json(loaded_model_json)\n",
    "# load weights into new model\n",
    "loaded_model.load_weights(\"model.h5\")\n",
    " \n",
    "# evaluate loaded model on test data\n",
    "sgd = SGD(lr=1)\n",
    "\n",
    "loaded_model.compile(optimizer=sgd, loss='categorical_crossentropy',\n",
    "              metrics=['accuracy'])\n",
    "\n",
    "score = loaded_model.evaluate(test_x, test_y, verbose=0)\n",
    "pred = loaded_model.predict(test_x)"
   ]
  },
  {
   "cell_type": "code",
   "execution_count": 14,
   "metadata": {},
   "outputs": [
    {
     "data": {
      "text/plain": [
       "0.83636363311247397"
      ]
     },
     "execution_count": 14,
     "metadata": {},
     "output_type": "execute_result"
    }
   ],
   "source": [
    "score[1] "
   ]
  },
  {
   "cell_type": "code",
   "execution_count": 29,
   "metadata": {
    "scrolled": true
   },
   "outputs": [
    {
     "name": "stdout",
     "output_type": "stream",
     "text": [
      "\r",
      "1/1 [==============================] - 0s 2ms/step\n"
     ]
    },
    {
     "data": {
      "text/plain": [
       "0.0"
      ]
     },
     "execution_count": 29,
     "metadata": {},
     "output_type": "execute_result"
    }
   ],
   "source": [
    "fit_y = np_utils.to_categorical(np.asarray([[True]]), 2)\n",
    "score_fit = loaded_model.evaluate(fit_flattened, fit_y)\n",
    "score_fit[1]"
   ]
  },
  {
   "cell_type": "code",
   "execution_count": null,
   "metadata": {},
   "outputs": [],
   "source": []
  }
 ],
 "metadata": {
  "kernelspec": {
   "display_name": "Python 3",
   "language": "python",
   "name": "python3"
  },
  "language_info": {
   "codemirror_mode": {
    "name": "ipython",
    "version": 3
   },
   "file_extension": ".py",
   "mimetype": "text/x-python",
   "name": "python",
   "nbconvert_exporter": "python",
   "pygments_lexer": "ipython3",
   "version": "3.6.4"
  }
 },
 "nbformat": 4,
 "nbformat_minor": 2
}
