{
 "cells": [
  {
   "cell_type": "code",
   "execution_count": 46,
   "metadata": {},
   "outputs": [],
   "source": [
    "import numpy as np\n",
    "from scipy import *\n",
    "import os\n",
    "import h5py\n",
    "from keras import backend as K\n",
    "from keras import optimizers\n",
    "from keras.layers import Dense, Activation, Dropout, ZeroPadding2D, Convolution2D, Flatten, MaxPooling2D\n",
    "from keras.optimizers import SGD, adam\n",
    "from keras.models import Sequential\n",
    "from keras.losses import categorical_crossentropy\n",
    "from sklearn.utils import shuffle\n",
    "from keras.utils import np_utils\n",
    "import matplotlib.pyplot as plt\n",
    "from skimage.feature import hog\n",
    "from skimage import data, exposure\n",
    "import pickle \n",
    "from skimage.transform import rescale\n",
    "from keras.models import model_from_json"
   ]
  },
  {
   "cell_type": "code",
   "execution_count": 21,
   "metadata": {},
   "outputs": [],
   "source": [
    "file = open(\"images.dat\",'rb')\n",
    "images = pickle.load(file)\n",
    "file.close()\n",
    "\n",
    "file = open(\"labels.dat\",'rb')\n",
    "labels = pickle.load(file)\n",
    "file.close()"
   ]
  },
  {
   "cell_type": "code",
   "execution_count": 22,
   "metadata": {},
   "outputs": [],
   "source": [
    "images = images.reshape(-1, 89, 89)"
   ]
  },
  {
   "cell_type": "code",
   "execution_count": 23,
   "metadata": {},
   "outputs": [],
   "source": [
    "hog_img  = []\n",
    "\n",
    "for i, image in enumerate(images):\n",
    "    fd = hog(images[i, :, :], orientations=8, pixels_per_cell=(8, 8),\n",
    "                        cells_per_block=(2, 2), visualise=False, feature_vector=True,block_norm=\"L2\")\n",
    "    \"\"\"\n",
    "    fig, (ax1, ax2) = plt.subplots(1, 2, figsize=(8, 4), sharex=True, sharey=True)\n",
    "    ax1.axis('off')\n",
    "    ax1.imshow(image, cmap=plt.cm.gray)\n",
    "    ax1.set_title('Input image')\n",
    "    ax1.set_adjustable('box-forced')\n",
    "\n",
    "    # Rescale histogram for better display\n",
    "    hog_image_rescaled = exposure.rescale_intensity(hog_image, in_range=(0, 10))\n",
    "\n",
    "    ax2.axis('off')\n",
    "    ax2.imshow(hog_image_rescaled, cmap=plt.cm.gray)\n",
    "    ax2.set_title('Histogram of Oriented Gradients')\n",
    "    ax1.set_adjustable('box-forced')\n",
    "    plt.show()\n",
    "    \"\"\"\n",
    "    hog_img.append(fd)\n",
    "    "
   ]
  },
  {
   "cell_type": "code",
   "execution_count": 24,
   "metadata": {},
   "outputs": [],
   "source": [
    "# balance classes\n",
    "def bal_classes(images, labels):\n",
    "    class1 = []\n",
    "    class2 = []\n",
    "    \n",
    "    for i in range(labels.shape[0]):\n",
    "        if labels[i] == False:\n",
    "            class1.append(i)\n",
    "    \n",
    "    for i in range(labels.shape[0]):\n",
    "        if labels[i] == True:\n",
    "            class2.append(i)\n",
    "    \n",
    "    if len(class2) > len(class1):\n",
    "        class2 = np.asarray(class2[:len(class1)])\n",
    "    \n",
    "    elif len(class2) < len(class1):\n",
    "        class1 = np.asarray(class1[:len(class2)])\n",
    "        \n",
    "    images1 = images[class1, :] \n",
    "    images2 = images[class2, :]\n",
    "    labels1 = labels[class1,]\n",
    "    labels2 = labels[class2,]\n",
    "    \n",
    "    print (labels2.shape)\n",
    "    \n",
    "    images_st = np.vstack((images1, images2))\n",
    "    labels_st =  np.concatenate((labels1, labels2), axis=0)              \n",
    "        \n",
    "    images_s, labels_s = shuffle(np.asarray(images_st), np.asarray(labels_st), random_state = 0)    \n",
    "        \n",
    "    return images_s, labels_s"
   ]
  },
  {
   "cell_type": "code",
   "execution_count": 251,
   "metadata": {},
   "outputs": [
    {
     "name": "stdout",
     "output_type": "stream",
     "text": [
      "(1216,)\n"
     ]
    }
   ],
   "source": [
    "images_p, labels_p = bal_classes(np.asarray(hog_img), np.asarray(labels))"
   ]
  },
  {
   "cell_type": "code",
   "execution_count": 252,
   "metadata": {},
   "outputs": [],
   "source": [
    "#imgs = np.reshape(images_p, (-1, 135, 135))\n",
    "\n",
    "#for n in range(0, imgs.shape[0]):\n",
    "   #plt.imshow(imgs[n,:,:], cmap='gray', shape=(135, 135))\n",
    "   #print (n)\n",
    "   #print (normalized_labels[n])\n",
    "   #plt.show()"
   ]
  },
  {
   "cell_type": "code",
   "execution_count": 253,
   "metadata": {},
   "outputs": [],
   "source": [
    "# Split data into training and testing sets\n",
    "\n",
    "def format_data(images, labels, ratio = 0.5):\n",
    "    split = round(ratio*images.shape[0])\n",
    "    \n",
    "    train_x = images[ :split, :]\n",
    "    test_x = images[split:, :]\n",
    "    train_y = labels[ :split]\n",
    "    test_y = labels[split:]\n",
    "    \n",
    "    return train_x, test_x, train_y, test_y\n",
    "\n",
    "\n",
    "train_x, test_x, train_y, test_y = format_data(images_p, labels_p)"
   ]
  },
  {
   "cell_type": "code",
   "execution_count": 254,
   "metadata": {},
   "outputs": [],
   "source": [
    "# Convert class vectors to binary class matrices\n",
    "train_y = np_utils.to_categorical(train_y, 2)\n",
    "test_y = np_utils.to_categorical(test_y, 2)"
   ]
  },
  {
   "cell_type": "code",
   "execution_count": 255,
   "metadata": {},
   "outputs": [],
   "source": [
    "# Define model attributes\n",
    "batch_size = 20\n",
    "nb_classes = output_dims = 2\n",
    "nb_epoch = 30\n",
    "input_dim = 3200\n",
    "\n",
    "# create model\n",
    "model = Sequential()\n",
    "model.add(Dense(100, input_dim = input_dim, activation = 'softmax'))\n",
    "model.add(Dropout(0.2))\n",
    "model.add(Dense(200, input_dim = input_dim, activation = 'softmax'))\n",
    "model.add(Dropout(0.2))\n",
    "model.add(Dense(units=output_dims, activation = \"sigmoid\"))"
   ]
  },
  {
   "cell_type": "code",
   "execution_count": 256,
   "metadata": {},
   "outputs": [
    {
     "data": {
      "text/plain": [
       "'\\n# load json and create model\\njson_file = open(\\'model_deephog.json\\', \\'r\\')\\nloaded_model_json = json_file.read()\\njson_file.close()\\nloaded_model = model_from_json(loaded_model_json)\\n# load weights into new model\\nloaded_model.load_weights(\"model_deephog.h5\")\\nprint(\"Loaded model from disk\"\\n'"
      ]
     },
     "execution_count": 256,
     "metadata": {},
     "output_type": "execute_result"
    }
   ],
   "source": [
    "\"\"\"\n",
    "# load json and create model\n",
    "json_file = open('model_deephog.json', 'r')\n",
    "loaded_model_json = json_file.read()\n",
    "json_file.close()\n",
    "loaded_model = model_from_json(loaded_model_json)\n",
    "# load weights into new model\n",
    "loaded_model.load_weights(\"model_deephog.h5\")\n",
    "print(\"Loaded model from disk\"\n",
    "\"\"\""
   ]
  },
  {
   "cell_type": "code",
   "execution_count": 257,
   "metadata": {},
   "outputs": [
    {
     "name": "stdout",
     "output_type": "stream",
     "text": [
      "Train on 1216 samples, validate on 1216 samples\n",
      "Epoch 1/30\n",
      "1216/1216 [==============================] - 27s 22ms/step - loss: 0.6931 - acc: 0.5140 - val_loss: 0.6933 - val_acc: 0.4885\n",
      "Epoch 2/30\n",
      "1216/1216 [==============================] - 2s 2ms/step - loss: 0.6930 - acc: 0.5115 - val_loss: 0.6933 - val_acc: 0.4885\n",
      "Epoch 3/30\n",
      "1216/1216 [==============================] - 1s 1ms/step - loss: 0.6930 - acc: 0.5115 - val_loss: 0.6934 - val_acc: 0.4885\n",
      "Epoch 4/30\n",
      "1216/1216 [==============================] - 1s 979us/step - loss: 0.6924 - acc: 0.5115 - val_loss: 0.6925 - val_acc: 0.4885\n",
      "Epoch 5/30\n",
      "1216/1216 [==============================] - 1s 921us/step - loss: 0.6923 - acc: 0.5115 - val_loss: 0.6926 - val_acc: 0.4885\n",
      "Epoch 6/30\n",
      "1216/1216 [==============================] - 1s 962us/step - loss: 0.6904 - acc: 0.5115 - val_loss: 0.6904 - val_acc: 0.4885\n",
      "Epoch 7/30\n",
      "1216/1216 [==============================] - 1s 958us/step - loss: 0.6878 - acc: 0.5115 - val_loss: 0.6880 - val_acc: 0.4885\n",
      "Epoch 8/30\n",
      "1216/1216 [==============================] - 1s 965us/step - loss: 0.6840 - acc: 0.6645 - val_loss: 0.6842 - val_acc: 0.6250\n",
      "Epoch 9/30\n",
      "1216/1216 [==============================] - 2s 1ms/step - loss: 0.6778 - acc: 0.7319 - val_loss: 0.6768 - val_acc: 0.7813\n",
      "Epoch 10/30\n",
      "1216/1216 [==============================] - 2s 1ms/step - loss: 0.6671 - acc: 0.7484 - val_loss: 0.6675 - val_acc: 0.7451\n",
      "Epoch 11/30\n",
      "1216/1216 [==============================] - 1s 1ms/step - loss: 0.6567 - acc: 0.7459 - val_loss: 0.6549 - val_acc: 0.7837\n",
      "Epoch 12/30\n",
      "1216/1216 [==============================] - 1s 1ms/step - loss: 0.6425 - acc: 0.7549 - val_loss: 0.6448 - val_acc: 0.7574\n",
      "Epoch 13/30\n",
      "1216/1216 [==============================] - 1s 1ms/step - loss: 0.6303 - acc: 0.7533 - val_loss: 0.6282 - val_acc: 0.7862\n",
      "Epoch 14/30\n",
      "1216/1216 [==============================] - 2s 1ms/step - loss: 0.6100 - acc: 0.7541 - val_loss: 0.6140 - val_acc: 0.7796\n",
      "Epoch 15/30\n",
      "1216/1216 [==============================] - 1s 1ms/step - loss: 0.5841 - acc: 0.7903 - val_loss: 0.5975 - val_acc: 0.7878\n",
      "Epoch 16/30\n",
      "1216/1216 [==============================] - 2s 1ms/step - loss: 0.5683 - acc: 0.7632 - val_loss: 0.5827 - val_acc: 0.7812\n",
      "Epoch 17/30\n",
      "1216/1216 [==============================] - 2s 2ms/step - loss: 0.5470 - acc: 0.7673 - val_loss: 0.5781 - val_acc: 0.7599\n",
      "Epoch 18/30\n",
      "1216/1216 [==============================] - 3s 2ms/step - loss: 0.5332 - acc: 0.7706 - val_loss: 0.5511 - val_acc: 0.7878\n",
      "Epoch 19/30\n",
      "1216/1216 [==============================] - 3s 2ms/step - loss: 0.5194 - acc: 0.7541 - val_loss: 0.5385 - val_acc: 0.7919\n",
      "Epoch 20/30\n",
      "1216/1216 [==============================] - 3s 3ms/step - loss: 0.4902 - acc: 0.7821 - val_loss: 0.5275 - val_acc: 0.7919\n",
      "Epoch 21/30\n",
      "1216/1216 [==============================] - 5s 4ms/step - loss: 0.4693 - acc: 0.7919 - val_loss: 0.5215 - val_acc: 0.7780\n",
      "Epoch 22/30\n",
      "1216/1216 [==============================] - 3s 3ms/step - loss: 0.4581 - acc: 0.7928 - val_loss: 0.5155 - val_acc: 0.7903\n",
      "Epoch 23/30\n",
      "1216/1216 [==============================] - 1s 994us/step - loss: 0.4512 - acc: 0.7862 - val_loss: 0.5031 - val_acc: 0.7944\n",
      "Epoch 24/30\n",
      "1216/1216 [==============================] - 3s 2ms/step - loss: 0.4439 - acc: 0.7895 - val_loss: 0.5034 - val_acc: 0.7780\n",
      "Epoch 25/30\n",
      "1216/1216 [==============================] - 4s 3ms/step - loss: 0.4151 - acc: 0.7961 - val_loss: 0.4945 - val_acc: 0.7895\n",
      "Epoch 26/30\n",
      "1216/1216 [==============================] - 3s 3ms/step - loss: 0.4097 - acc: 0.7944 - val_loss: 0.4948 - val_acc: 0.7829\n",
      "Epoch 27/30\n",
      "1216/1216 [==============================] - 4s 3ms/step - loss: 0.4100 - acc: 0.7919 - val_loss: 0.4913 - val_acc: 0.7821\n",
      "Epoch 28/30\n",
      "1216/1216 [==============================] - 2s 2ms/step - loss: 0.3941 - acc: 0.8035 - val_loss: 0.4920 - val_acc: 0.7771\n",
      "Epoch 29/30\n",
      "1216/1216 [==============================] - 2s 2ms/step - loss: 0.3965 - acc: 0.7936 - val_loss: 0.5181 - val_acc: 0.7516\n",
      "Epoch 30/30\n",
      "1216/1216 [==============================] - 2s 1ms/step - loss: 0.3649 - acc: 0.8191 - val_loss: 0.4904 - val_acc: 0.7862\n"
     ]
    }
   ],
   "source": [
    "model.compile(optimizer=\"adam\", loss='categorical_crossentropy',\n",
    "              metrics=['accuracy'])\n",
    "history = model.fit(train_x, train_y, epochs=nb_epoch, batch_size=batch_size, \n",
    "          validation_data=(test_x, test_y))"
   ]
  },
  {
   "cell_type": "code",
   "execution_count": 259,
   "metadata": {
    "scrolled": true
   },
   "outputs": [
    {
     "data": {
      "image/png": "[encoded data removed]",
      "text/plain": [
       "<matplotlib.figure.Figure at 0x156c0b4e4e0>"
      ]
     },
     "metadata": {},
     "output_type": "display_data"
    }
   ],
   "source": [
    "plt.plot(history.history['acc'])\n",
    "plt.plot(history.history['val_acc'])\n",
    "plt.title('model accuracy')\n",
    "plt.ylabel('accuracy')\n",
    "plt.xlabel('epoch')\n",
    "plt.legend(['train', 'test'], loc='upper left')\n",
    "plt.grid(True)\n",
    "plt.show()"
   ]
  },
  {
   "cell_type": "code",
   "execution_count": 250,
   "metadata": {},
   "outputs": [
    {
     "name": "stdout",
     "output_type": "stream",
     "text": [
      "Saved model to disk\n"
     ]
    }
   ],
   "source": [
    "\n",
    "# serialize model to JSON\n",
    "model_json = model.to_json()\n",
    "with open(\"model_deephog.json\", \"w\") as json_file:\n",
    "    json_file.write(model_json)\n",
    "# serialize weights to HDF5\n",
    "model.save_weights(\"model_deephog.h5\")\n",
    "print(\"Saved model to disk\")\n"
   ]
  },
  {
   "cell_type": "code",
   "execution_count": 13,
   "metadata": {
    "scrolled": true
   },
   "outputs": [
    {
     "ename": "ValueError",
     "evalue": "cannot reshape array of size 400 into shape (135,135,2)",
     "output_type": "error",
     "traceback": [
      "\u001b[1;31m---------------------------------------------------------------------------\u001b[0m",
      "\u001b[1;31mValueError\u001b[0m                                Traceback (most recent call last)",
      "\u001b[1;32m<ipython-input-13-ede0fc96d4f0>\u001b[0m in \u001b[0;36m<module>\u001b[1;34m()\u001b[0m\n\u001b[0;32m      2\u001b[0m     \u001b[0mweights\u001b[0m \u001b[1;33m=\u001b[0m \u001b[0mlayer\u001b[0m\u001b[1;33m.\u001b[0m\u001b[0mget_weights\u001b[0m\u001b[1;33m(\u001b[0m\u001b[1;33m)\u001b[0m\u001b[1;33m\u001b[0m\u001b[0m\n\u001b[0;32m      3\u001b[0m \u001b[1;33m\u001b[0m\u001b[0m\n\u001b[1;32m----> 4\u001b[1;33m \u001b[0mwt\u001b[0m \u001b[1;33m=\u001b[0m \u001b[0mnp\u001b[0m\u001b[1;33m.\u001b[0m\u001b[0mreshape\u001b[0m\u001b[1;33m(\u001b[0m\u001b[0mweights\u001b[0m\u001b[1;33m[\u001b[0m\u001b[1;36m0\u001b[0m\u001b[1;33m]\u001b[0m\u001b[1;33m,\u001b[0m \u001b[1;33m(\u001b[0m\u001b[1;36m135\u001b[0m\u001b[1;33m,\u001b[0m \u001b[1;36m135\u001b[0m\u001b[1;33m,\u001b[0m \u001b[1;36m2\u001b[0m\u001b[1;33m)\u001b[0m\u001b[1;33m)\u001b[0m\u001b[1;33m\u001b[0m\u001b[0m\n\u001b[0m\u001b[0;32m      5\u001b[0m \u001b[1;33m\u001b[0m\u001b[0m\n\u001b[0;32m      6\u001b[0m \u001b[1;32mfor\u001b[0m \u001b[0mn\u001b[0m \u001b[1;32min\u001b[0m \u001b[0mrange\u001b[0m\u001b[1;33m(\u001b[0m\u001b[1;36m0\u001b[0m\u001b[1;33m,\u001b[0m \u001b[0mwt\u001b[0m\u001b[1;33m.\u001b[0m\u001b[0mshape\u001b[0m\u001b[1;33m[\u001b[0m\u001b[1;36m2\u001b[0m\u001b[1;33m]\u001b[0m\u001b[1;33m)\u001b[0m\u001b[1;33m:\u001b[0m\u001b[1;33m\u001b[0m\u001b[0m\n",
      "\u001b[1;32m~\\Anaconda3\\envs\\CSIRO\\lib\\site-packages\\numpy\\core\\fromnumeric.py\u001b[0m in \u001b[0;36mreshape\u001b[1;34m(a, newshape, order)\u001b[0m\n\u001b[0;32m    230\u001b[0m            [5, 6]])\n\u001b[0;32m    231\u001b[0m     \"\"\"\n\u001b[1;32m--> 232\u001b[1;33m     \u001b[1;32mreturn\u001b[0m \u001b[0m_wrapfunc\u001b[0m\u001b[1;33m(\u001b[0m\u001b[0ma\u001b[0m\u001b[1;33m,\u001b[0m \u001b[1;34m'reshape'\u001b[0m\u001b[1;33m,\u001b[0m \u001b[0mnewshape\u001b[0m\u001b[1;33m,\u001b[0m \u001b[0morder\u001b[0m\u001b[1;33m=\u001b[0m\u001b[0morder\u001b[0m\u001b[1;33m)\u001b[0m\u001b[1;33m\u001b[0m\u001b[0m\n\u001b[0m\u001b[0;32m    233\u001b[0m \u001b[1;33m\u001b[0m\u001b[0m\n\u001b[0;32m    234\u001b[0m \u001b[1;33m\u001b[0m\u001b[0m\n",
      "\u001b[1;32m~\\Anaconda3\\envs\\CSIRO\\lib\\site-packages\\numpy\\core\\fromnumeric.py\u001b[0m in \u001b[0;36m_wrapfunc\u001b[1;34m(obj, method, *args, **kwds)\u001b[0m\n\u001b[0;32m     55\u001b[0m \u001b[1;32mdef\u001b[0m \u001b[0m_wrapfunc\u001b[0m\u001b[1;33m(\u001b[0m\u001b[0mobj\u001b[0m\u001b[1;33m,\u001b[0m \u001b[0mmethod\u001b[0m\u001b[1;33m,\u001b[0m \u001b[1;33m*\u001b[0m\u001b[0margs\u001b[0m\u001b[1;33m,\u001b[0m \u001b[1;33m**\u001b[0m\u001b[0mkwds\u001b[0m\u001b[1;33m)\u001b[0m\u001b[1;33m:\u001b[0m\u001b[1;33m\u001b[0m\u001b[0m\n\u001b[0;32m     56\u001b[0m     \u001b[1;32mtry\u001b[0m\u001b[1;33m:\u001b[0m\u001b[1;33m\u001b[0m\u001b[0m\n\u001b[1;32m---> 57\u001b[1;33m         \u001b[1;32mreturn\u001b[0m \u001b[0mgetattr\u001b[0m\u001b[1;33m(\u001b[0m\u001b[0mobj\u001b[0m\u001b[1;33m,\u001b[0m \u001b[0mmethod\u001b[0m\u001b[1;33m)\u001b[0m\u001b[1;33m(\u001b[0m\u001b[1;33m*\u001b[0m\u001b[0margs\u001b[0m\u001b[1;33m,\u001b[0m \u001b[1;33m**\u001b[0m\u001b[0mkwds\u001b[0m\u001b[1;33m)\u001b[0m\u001b[1;33m\u001b[0m\u001b[0m\n\u001b[0m\u001b[0;32m     58\u001b[0m \u001b[1;33m\u001b[0m\u001b[0m\n\u001b[0;32m     59\u001b[0m     \u001b[1;31m# An AttributeError occurs if the object does not have\u001b[0m\u001b[1;33m\u001b[0m\u001b[1;33m\u001b[0m\u001b[0m\n",
      "\u001b[1;31mValueError\u001b[0m: cannot reshape array of size 400 into shape (135,135,2)"
     ]
    }
   ],
   "source": [
    "for layer in model.layers:\n",
    "    weights = layer.get_weights()\n",
    "\n",
    "wt = np.reshape(weights[0], (135, 135, 2))\n",
    "    \n",
    "for n in range(0, wt.shape[2]):\n",
    "   plt.imshow(wt[:,:,n], cmap='gray', shape=(135, 135))\n",
    "   print (n)\n",
    "   plt.show()\n",
    "\n",
    "print (\"Dense to output layer weights \" + str(weights[1]))"
   ]
  },
  {
   "cell_type": "code",
   "execution_count": null,
   "metadata": {},
   "outputs": [],
   "source": [
    "def f1(y_true, y_pred):\n",
    "    def recall(y_true, y_pred):\n",
    "        \"\"\"Recall metric.\n",
    "\n",
    "        Only computes a batch-wise average of recall.\n",
    "\n",
    "        Computes the recall, a metric for multi-label classification of\n",
    "        how many relevant items are selected.\n",
    "        \"\"\"\n",
    "        true_positives = K.sum(K.round(K.clip(y_true * y_pred, 0, 1)))\n",
    "        possible_positives = K.sum(K.round(K.clip(y_true, 0, 1)))\n",
    "        recall = true_positives / (possible_positives + K.epsilon())\n",
    "        return recall\n",
    "\n",
    "    def precision(y_true, y_pred):\n",
    "        \"\"\"Precision metric.\n",
    "\n",
    "        Only computes a batch-wise average of precision.\n",
    "\n",
    "        Computes the precision, a metric for multi-label classification of\n",
    "        how many selected items are relevant.\n",
    "        \"\"\"\n",
    "        true_positives = K.sum(K.round(K.clip(y_true * y_pred, 0, 1)))\n",
    "        predicted_positives = K.sum(K.round(K.clip(y_pred, 0, 1)))\n",
    "        precision = true_positives / (predicted_positives + K.epsilon())\n",
    "        return precision\n",
    "    precision = precision(y_true, y_pred)\n",
    "    recall = recall(y_true, y_pred)\n",
    "    return 2*((precision*recall)/(precision+recall))"
   ]
  },
  {
   "cell_type": "code",
   "execution_count": null,
   "metadata": {},
   "outputs": [],
   "source": []
  },
  {
   "cell_type": "code",
   "execution_count": null,
   "metadata": {},
   "outputs": [],
   "source": []
  },
  {
   "cell_type": "code",
   "execution_count": null,
   "metadata": {},
   "outputs": [],
   "source": []
  }
 ],
 "metadata": {
  "kernelspec": {
   "display_name": "Python 3",
   "language": "python",
   "name": "python3"
  },
  "language_info": {
   "codemirror_mode": {
    "name": "ipython",
    "version": 3
   },
   "file_extension": ".py",
   "mimetype": "text/x-python",
   "name": "python",
   "nbconvert_exporter": "python",
   "pygments_lexer": "ipython3",
   "version": "3.6.4"
  }
 },
 "nbformat": 4,
 "nbformat_minor": 2
}
