{
 "cells": [
  {
   "cell_type": "code",
   "execution_count": 79,
   "metadata": {
    "scrolled": true
   },
   "outputs": [],
   "source": [
    "import numpy as np\n",
    "from scipy import signal as sg\n",
    "import scipy.misc\n",
    "import matplotlib.pyplot as plt\n",
    "%matplotlib inline"
   ]
  },
  {
   "cell_type": "code",
   "execution_count": 85,
   "metadata": {},
   "outputs": [],
   "source": [
    "def hog(image, bins, pixels_per_cell, cells_per_block, small_constant = 0.000000001):\n",
    "    # convolution Matrix\n",
    "    kernel = np.array([[-1, 0, 1], [-1, 0, 1], [-1, 0, 1]])   \n",
    "\n",
    "    \"\"\"Stage One - Computing first order image gradients + magnitude and orientation\"\"\"    \n",
    "    #Extract Histogram of Oriented Gradients (HOG) for a given image.\n",
    "    # array of horizontal gradients for each pixel\n",
    "    grad_x = sg.convolve2d(image, kernel)\n",
    "\n",
    "    # array of vertical gradients for each pixel\n",
    "    grad_y = sg.convolve2d(image, kernel.T)\n",
    "\n",
    "    # combining x and y gradients by calculating the magnitude\n",
    "    # resulting array contains the gradient magnitude for each pixel\n",
    "    grad_mag_raw = np.sqrt(np.power(grad_x, 2)+np.power(grad_y, 2))\n",
    "    grad_mag  = grad_mag_raw/np.max(grad_mag_raw)\n",
    "\n",
    "    # Finding the orientation of the gradeint for each pixel    \n",
    "    grad_ang_rad = np.arctan2(grad_y, grad_x)\n",
    "\n",
    "    # Converting angles from -pi to pi to 0 to 360 degrees\n",
    "    grad_ang_deg = 180*(grad_ang_rad + np.pi)/np.pi   \n",
    "    \n",
    "    \"\"\"Stage Two - Cell Orientation Binning \"\"\"\n",
    "    \n",
    "    # Defining values\n",
    "    s_row, s_col = image.shape[:2]     #y and x lengths of images\n",
    "    c_row, c_col = pixels_per_cell     #y and x lengths of cell\n",
    "    b_row, b_col = cells_per_block     #y and x lengths of block\n",
    "\n",
    "    n_cells_row = int(s_row / c_row)  # number of cells along row-axis\n",
    "    n_cells_col = int(s_col / c_col)  # number of cells along col-axis\n",
    "\n",
    "    w = (360/bins)  # Cell width    \n",
    "    cells = []      # empty list to append cells   \n",
    "\n",
    "    # Fill histogram via bilinear interpolation\n",
    "    # creating histograms for each cell\n",
    "    for r in range(c_row, s_row+1, c_row):\n",
    "        for c in range(c_col, s_col+1, c_col):\n",
    "            histogram = np.zeros(bins)              # Initialize histogram\n",
    "            cell = grad_ang_deg[r - c_row:r, c - c_col:c]   # cell array of pixel orientations\n",
    "            cell_mags = grad_mag[r - c_row:r, c - c_col:c].flatten()  # cell array of pixel magnitudes\n",
    "\n",
    "            # For each pixel in the cell\n",
    "            for i, x in enumerate(cell.flatten()):\n",
    "                \n",
    "                # Select Histogram Bins\n",
    "                j0 = int(np.floor((x/w)-0.5)%bins)\n",
    "                j1 = int((j0+1)%bins)\n",
    "                \n",
    "                # Special cases for when two bins are 7 and 0\n",
    "                if (j0 == 7) and (x <= 22.5):\n",
    "                    vj0 = cell_mags[i]*((w*(j1+0.5)-x)/w)\n",
    "                    vj1 = cell_mags[i]*((x+360-w*(j0+0.5))/w)\n",
    "                 \n",
    "                elif (j0 == 7) and (x >= 337.5):\n",
    "                    vj0 = cell_mags[i]*((w*(j1+0.5)-x+360)/w)\n",
    "                    vj1 = cell_mags[i]*((x-w*(j0+0.5))/w)\n",
    "                \n",
    "                # All other cases\n",
    "                else:    \n",
    "                    vj0 = cell_mags[i]*((w*(j1+0.5)-x)/w)\n",
    "                    vj1 = cell_mags[i]*((x-w*(j0+0.5))/w)   \n",
    "\n",
    "                # Adding votes to histogram cell \n",
    "                histogram[j0] += vj0\n",
    "                histogram[j1] += vj1\n",
    "                \n",
    "            # Adding cell (list of histograms) to the cell list    \n",
    "            cells.append(histogram)\n",
    "        \n",
    "    \"\"\"Stage Three - Creating Blocks \"\"\"\n",
    "    cells_ordered = np.reshape(cells, (n_cells_row, n_cells_col, 8))/2  #unflattening list and diving by two since other implementations are between 0 and 180 not 0 and 360\n",
    "\n",
    "    blocks = []\n",
    "    for r in range(b_row, n_cells_row):\n",
    "        for c in range(b_col, n_cells_row):\n",
    "            block = cells_ordered[r - b_row:r, c - b_col:c, :]\n",
    "            block_f = block.flatten()\n",
    "            block_n = (block_f)/np.sqrt(np.power(np.around(block_f), 2) + small_constant)\n",
    "            blocks.append(block_n)\n",
    "    \n",
    "    h_normed = (h)/np.sqrt(np.power(np.around(h), 2) + small_constant)\n",
    "    \n",
    "    return h_normed\n",
    "\n",
    "    \n"
   ]
  },
  {
   "cell_type": "code",
   "execution_count": 86,
   "metadata": {},
   "outputs": [],
   "source": [
    "image = hog(scipy.misc.face(True)[:, 256:], 8, pixels_per_cell = (24, 24), cells_per_block =(2, 2))"
   ]
  },
  {
   "cell_type": "code",
   "execution_count": 87,
   "metadata": {},
   "outputs": [
    {
     "name": "stdout",
     "output_type": "stream",
     "text": [
      "[ 1.05763256  0.9857208   0.99297966 ...,  1.38866764  1.09641113\n",
      "  0.99998733]\n"
     ]
    }
   ],
   "source": [
    "print (image)"
   ]
  }
 ],
 "metadata": {
  "kernelspec": {
   "display_name": "Python 3",
   "language": "python",
   "name": "python3"
  },
  "language_info": {
   "codemirror_mode": {
    "name": "ipython",
    "version": 3
   },
   "file_extension": ".py",
   "mimetype": "text/x-python",
   "name": "python",
   "nbconvert_exporter": "python",
   "pygments_lexer": "ipython3",
   "version": "3.6.4"
  }
 },
 "nbformat": 4,
 "nbformat_minor": 2
}
