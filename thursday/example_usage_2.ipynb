{
 "cells": [
  {
   "cell_type": "code",
   "execution_count": null,
   "metadata": {
    "scrolled": true
   },
   "outputs": [],
   "source": [
    "import keras \n",
    "import numpy as np\n",
    "from sklearn.ensemble import RandomForestClassifier\n",
    "from thursday import get_data, augment_data\n",
    "from thursday.models import SklearnModel, HOGNet"
   ]
  },
  {
   "cell_type": "code",
   "execution_count": null,
   "metadata": {},
   "outputs": [],
   "source": [
    "# Path to data output by fri_frii_download.ipynb.\n",
    "fr_data_path = \"data/data.h5\"\n",
    "# Path to Aniyan+17 validation set.\n",
    "aniyan_path = \"data/asu.tsv\"\n",
    "\n",
    "seed = 0"
   ]
  },
  {
   "cell_type": "code",
   "execution_count": null,
   "metadata": {
    "scrolled": true
   },
   "outputs": [],
   "source": [
    "# Converting the data from data.h5 and asu.tsv into training and testing data.\n",
    "# Coordinates from data.h5 and asu.tsv are converted into Skycoords.\n",
    "# The two are cross-matched. Sources within five arcsec radius of each other are assumed to be the same object.\n",
    "# asu sources are extracted from the data.h5 sources, and formated into class-wise balanced training set.\n",
    "# The remainder are formated into class-wise balanced testing set.\n",
    "\n",
    "train_i, test_i = get_data(fr_data_path, aniyan_path, seed=seed)\n",
    "# TODO(josh-marsh): Add scale"
   ]
  },
  {
   "cell_type": "code",
   "execution_count": null,
   "metadata": {},
   "outputs": [],
   "source": [
    "# Consrtuct the data generator to randomly augment data\n",
    "datagen = augment_data(dim=256, rotation_range=180, zoom_range=0.2, shift_range=0.0, flip=True)"
   ]
  },
  {
   "cell_type": "code",
   "execution_count": null,
   "metadata": {},
   "outputs": [],
   "source": [
    "# Instantiate Logistic Regression (any other Sklearn Classifier can be used - with the same input data format)\n",
    "logistic = SklearnModel(LogisticRegression, datagen=datagen, max_augmentations=100, seed=seed,\n",
    "                        solver='liblinear', max_iter=100, dual=True)"
   ]
  },
  {
   "cell_type": "code",
   "execution_count": null,
   "metadata": {},
   "outputs": [],
   "source": [
    "with h5py.File(fr_data_path, 'r') as data:\n",
    "    train_x = data['images'][train_i]\n",
    "    train_y = data['labels'][train_i]\n",
    "    \n",
    "    train_x = train_x.reshape((train_x.shape[0], -1))\n",
    "    \n",
    "    logistic.fit(train_x, train_y)"
   ]
  },
  {
   "cell_type": "code",
   "execution_count": null,
   "metadata": {},
   "outputs": [],
   "source": [
    "# Save model\n",
    "logistic.save(out_path)"
   ]
  },
  {
   "cell_type": "code",
   "execution_count": null,
   "metadata": {},
   "outputs": [],
   "source": [
    "with h5py.File(fr_data_path, 'r') as data:\n",
    "    test_x = data['images'][test_i]\n",
    "    test_y = data['labels'][test_i]\n",
    "    \n",
    "    test_x = test_x.reshape((test_x.shape[0], -1))\n",
    "    \n",
    "    predictions = logistic.predict(test_x)\n",
    "    correct = test_y == predictions\n",
    "    print('Accuracy: {:.02%}'.format(correct.mean()))"
   ]
  }
 ],
 "metadata": {
  "kernelspec": {
   "display_name": "Python 3",
   "language": "python",
   "name": "python3"
  },
  "language_info": {
   "codemirror_mode": {
    "name": "ipython",
    "version": 3
   },
   "file_extension": ".py",
   "mimetype": "text/x-python",
   "name": "python",
   "nbconvert_exporter": "python",
   "pygments_lexer": "ipython3",
   "version": "3.6.4"
  }
 },
 "nbformat": 4,
 "nbformat_minor": 2
}
