{
 "cells": [
  {
   "cell_type": "code",
   "execution_count": 1,
   "metadata": {},
   "outputs": [
    {
     "name": "stderr",
     "output_type": "stream",
     "text": [
      "Using TensorFlow backend.\n"
     ]
    }
   ],
   "source": [
    "import os\n",
    "import numpy as np\n",
    "import pandas as pd\n",
    "import matplotlib\n",
    "from matplotlib import pylab, mlab, pyplot\n",
    "from scipy.misc import *\n",
    "\n",
    "import tensorflow as tf\n",
    "import keras\n",
    "from keras.models import Sequential \n",
    "from keras.layers import Dense, Activation, Dropout, Convolution2D, Flatten, MaxPooling2D, Reshape, InputLayer\n",
    "import keras.datasets as d\n",
    "\n",
    "from pylab import *\n",
    "from numpy import *\n",
    "\n",
    "from IPython.core.pylabtools import figsize, getfigs"
   ]
  },
  {
   "cell_type": "code",
   "execution_count": 2,
   "metadata": {},
   "outputs": [],
   "source": [
    "# To stop potential randomness\n",
    "seed = 128\n",
    "rng = np.random.RandomState(seed)"
   ]
  },
  {
   "cell_type": "code",
   "execution_count": 3,
   "metadata": {},
   "outputs": [
    {
     "data": {
      "text/plain": [
       "True"
      ]
     },
     "execution_count": 3,
     "metadata": {},
     "output_type": "execute_result"
    }
   ],
   "source": [
    "# Setting directory paths \n",
    "root_dir = os.getcwd()\n",
    "data_dir = os.path.join(root_dir, 'data')\n",
    "\n",
    "# check for existence\n",
    "os.path.exists(root_dir)\n",
    "os.path.exists(data_dir)"
   ]
  },
  {
   "cell_type": "code",
   "execution_count": 4,
   "metadata": {},
   "outputs": [],
   "source": [
    "# Data Loading and Preprocessing\n",
    "(train_x, train_y), (test_x, test_y) = d.fashion_mnist.load_data()\n",
    "\n",
    "train_x = np.asarray(train_x).astype('float32') \n",
    "train_y = np.asarray(train_y).astype('float32') \n",
    "test_x = np.asarray(test_x).astype('float32') \n",
    "test_y = np.asarray(test_y).astype('float32')"
   ]
  },
  {
   "cell_type": "code",
   "execution_count": 5,
   "metadata": {},
   "outputs": [
    {
     "data": {
      "text/plain": [
       "\"\\nimg_train = np.reshape(train_x, (60000, 28, 28))\\npyplot.imshow(img_train[356,:,:], cmap='gray', shape=(28, 28))\\npyplot.show()\\n\""
      ]
     },
     "execution_count": 5,
     "metadata": {},
     "output_type": "execute_result"
    }
   ],
   "source": [
    "# Display image\n",
    "\"\"\"\n",
    "img_train = np.reshape(train_x, (60000, 28, 28))\n",
    "pyplot.imshow(img_train[356,:,:], cmap='gray', shape=(28, 28))\n",
    "pyplot.show()\n",
    "\"\"\""
   ]
  },
  {
   "cell_type": "code",
   "execution_count": 6,
   "metadata": {},
   "outputs": [],
   "source": [
    "# Modifications\n",
    "train_x /= 255.0\n",
    "test_x /= 255.0\n",
    "\n",
    "from keras.utils import np_utils\n",
    "nb_classes = 10\n",
    "\n",
    "# Convert class vectors to binary class matrices\n",
    "train_y = np_utils.to_categorical(train_y, 10)\n",
    "test_y = np_utils.to_categorical(test_y, 10)\n",
    "\n",
    "# Flatten Training and Testing Data\n",
    "train_x = np.reshape(train_x, (-1, 784))\n",
    "test_x = np.reshape(test_x, (-1, 784))"
   ]
  },
  {
   "cell_type": "code",
   "execution_count": 7,
   "metadata": {
    "scrolled": false
   },
   "outputs": [],
   "source": [
    "# build model\n",
    "\n",
    "input_num_units = 784\n",
    "hidden1_num_units = 500\n",
    "hidden2_num_units = 500\n",
    "hidden3_num_units = 500\n",
    "hidden4_num_units = 500\n",
    "hidden5_num_units = 500\n",
    "output_num_units = 10\n",
    "\n",
    "epochs = 100\n",
    "batch_size = 128\n",
    "dropout_ratio = 0.2\n",
    "\n",
    "# import keras modules\n",
    "from keras.models import Sequential\n",
    "from keras.layers import Dense\n",
    "from keras import optimizers\n",
    "\n",
    "# model = model_from_json(open('fashion_mnist_Logistic_model.json').read())# if json \n",
    "# model.load_weights('fashion_mnist_Logistic_wts.h5')\n",
    "\n",
    "\n",
    "# create model\n",
    "model = Sequential()\n",
    "model.add(Dense(units = hidden1_num_units, input_dim = input_num_units, activation = 'relu'))\n",
    "model.add(Dropout(dropout_ratio))\n",
    "\n",
    "model.add(Dense(units = hidden2_num_units, activation = 'relu'))\n",
    "model.add(Dropout(dropout_ratio))\n",
    "\n",
    "model.add(Dense(units = hidden3_num_units, activation = 'relu'))\n",
    "model.add(Dropout(dropout_ratio))\n",
    "                  \n",
    "model.add(Dense(units = hidden4_num_units, activation = 'relu'))\n",
    "model.add(Dropout(dropout_ratio))\n",
    "                \n",
    "model.add(Dense(units = hidden5_num_units, activation = 'relu'))\n",
    "model.add(Dropout(dropout_ratio))\n",
    "                  \n",
    "model.add(Dense(units=output_num_units, activation='softmax'))\n"
   ]
  },
  {
   "cell_type": "code",
   "execution_count": null,
   "metadata": {},
   "outputs": [
    {
     "name": "stderr",
     "output_type": "stream",
     "text": [
      "C:\\Users\\fires\\Anaconda3\\envs\\CSIRO\\lib\\site-packages\\keras\\models.py:944: UserWarning: The `nb_epoch` argument in `fit` has been renamed `epochs`.\n",
      "  warnings.warn('The `nb_epoch` argument in `fit` '\n"
     ]
    },
    {
     "name": "stdout",
     "output_type": "stream",
     "text": [
      "Train on 60000 samples, validate on 10000 samples\n",
      "Epoch 1/100\n",
      "60000/60000 [==============================] - 38s 640us/step - loss: 0.1387 - acc: 0.9572 - val_loss: 0.4390 - val_acc: 0.8990\n",
      "Epoch 2/100\n",
      "60000/60000 [==============================] - 30s 493us/step - loss: 0.1329 - acc: 0.9594 - val_loss: 0.4123 - val_acc: 0.9006\n",
      "Epoch 3/100\n",
      "60000/60000 [==============================] - 32s 539us/step - loss: 0.1392 - acc: 0.9559 - val_loss: 0.4303 - val_acc: 0.8967\n",
      "Epoch 4/100\n",
      " 9600/60000 [===>..........................] - ETA: 21s - loss: 0.1360 - acc: 0.9587"
     ]
    }
   ],
   "source": [
    "adam = keras.optimizers.adam(lr=0.001)\n",
    "model.compile(loss='categorical_crossentropy', optimizer = adam, \n",
    "              metrics=['accuracy'])\n",
    "model.fit(train_x, train_y, nb_epoch=epochs, batch_size=batch_size,\n",
    "         validation_data = (test_x, test_y))"
   ]
  },
  {
   "cell_type": "code",
   "execution_count": 9,
   "metadata": {},
   "outputs": [],
   "source": [
    "json_string = model.to_json()  #as json\n",
    "open('fashion_mnist_Logistic_model.json', 'w').write(json_string)\n",
    "\n",
    "# save the weights in h5 format\n",
    "model.save_weights('fashion_mnist_Logistic_wts.h5')"
   ]
  },
  {
   "cell_type": "code",
   "execution_count": null,
   "metadata": {},
   "outputs": [],
   "source": []
  }
 ],
 "metadata": {
  "kernelspec": {
   "display_name": "Python 3",
   "language": "python",
   "name": "python3"
  },
  "language_info": {
   "codemirror_mode": {
    "name": "ipython",
    "version": 3
   },
   "file_extension": ".py",
   "mimetype": "text/x-python",
   "name": "python",
   "nbconvert_exporter": "python",
   "pygments_lexer": "ipython3",
   "version": "3.6.4"
  }
 },
 "nbformat": 4,
 "nbformat_minor": 2
}
