{
 "cells": [
  {
   "cell_type": "code",
   "execution_count": 1,
   "metadata": {
    "scrolled": true
   },
   "outputs": [
    {
     "name": "stderr",
     "output_type": "stream",
     "text": [
      "Using TensorFlow backend.\n"
     ]
    }
   ],
   "source": [
    "import keras \n",
    "import numpy as np\n",
    "from sklearn.linear_model import LogisticRegression\n",
    "from sklearn.ensemble import RandomForestClassifier\n",
    "\n",
    "from format_data import get_data, data_pregen, data_gen\n",
    "from models import SklearnModel"
   ]
  },
  {
   "cell_type": "code",
   "execution_count": null,
   "metadata": {},
   "outputs": [],
   "source": [
    "# Parameters\n",
    "first_path = \"data/data.h5\"\n",
    "second_path = \"data/asu.tsv\"\n",
    "\n",
    "flatten = True\n",
    "seed = 0\n",
    "data_path = \"data/\""
   ]
  },
  {
   "cell_type": "code",
   "execution_count": null,
   "metadata": {
    "scrolled": true
   },
   "outputs": [],
   "source": [
    "# Converting the data from data.h5 and asu.tsv into training and testing data.\n",
    "# Coordinates from data.h5 and asu.tsv are converted into Skycoords.\n",
    "# The two are cross-matched. Sources within five arcsec radius of each other are assumed to be the same object.\n",
    "# asu sources are extracted from the data.h5 sources, and formated into class-wise balanced training set.\n",
    "# The remainder are formated into class-wise balanced testing set.\n",
    "\n",
    "train_x, train_y, test_x, test_y = get_data(first_path, second_path, \n",
    "                                            flip_train_test=False, \n",
    "                                            dim=256, conf_matrix=False, seed=seed)"
   ]
  },
  {
   "cell_type": "code",
   "execution_count": null,
   "metadata": {},
   "outputs": [],
   "source": [
    "# Consrtuct the data generator to randomly Augment data\n",
    "datagen = data_gen(rotation_range=180, zoom_range=0.2, shift_range = 0.0, flip=True)"
   ]
  },
  {
   "cell_type": "code",
   "execution_count": null,
   "metadata": {},
   "outputs": [],
   "source": [
    "# Pre-generating data for sklearn classifer.\n",
    "pre_train_x, pre_train_y, pre_test_x, pre_test_y = data_pregen(train_x, train_y, test_x, test_y, datagen=datagen, \n",
    "                                                               batch_size=20, nb_epoch=5, seed=seed)"
   ]
  },
  {
   "cell_type": "code",
   "execution_count": null,
   "metadata": {},
   "outputs": [],
   "source": [
    "# Instatising Logistic Regression (any other Sklearn Classifer can be used - with the same input data format)\n",
    "logistic = SklearnModel(LogisticRegression, name=\"logistic\", data_path=data_path, seed=seed)"
   ]
  },
  {
   "cell_type": "code",
   "execution_count": null,
   "metadata": {},
   "outputs": [],
   "source": [
    "# Dictionary of model parameters\n",
    "params = {'solver': 'liblinear', 'max_iter':100, 'multi_class':'ovr', 'verbose':0}\n",
    "\n",
    "# Training classifer\n",
    "logistic = logistic.train(pre_train_x, pre_train_y, params)"
   ]
  },
  {
   "cell_type": "code",
   "execution_count": null,
   "metadata": {},
   "outputs": [],
   "source": [
    "# Loading model\n",
    "logistic_model = logistic.load()"
   ]
  },
  {
   "cell_type": "code",
   "execution_count": null,
   "metadata": {},
   "outputs": [],
   "source": [
    "# Testing model (won't give results as data is wrong - see readme)\n",
    "score = logistic_model.predict(pre_test_x)"
   ]
  },
  {
   "cell_type": "code",
   "execution_count": null,
   "metadata": {},
   "outputs": [],
   "source": [
    "score.mean()"
   ]
  }
 ],
 "metadata": {
  "kernelspec": {
   "display_name": "Python 3",
   "language": "python",
   "name": "python3"
  },
  "language_info": {
   "codemirror_mode": {
    "name": "ipython",
    "version": 3
   },
   "file_extension": ".py",
   "mimetype": "text/x-python",
   "name": "python",
   "nbconvert_exporter": "python",
   "pygments_lexer": "ipython3",
   "version": "3.6.4"
  }
 },
 "nbformat": 4,
 "nbformat_minor": 2
}
