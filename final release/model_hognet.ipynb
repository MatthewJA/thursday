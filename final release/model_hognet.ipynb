{
 "cells": [
  {
   "cell_type": "code",
   "execution_count": 1,
   "metadata": {},
   "outputs": [
    {
     "name": "stderr",
     "output_type": "stream",
     "text": [
      "Using TensorFlow backend.\n"
     ]
    }
   ],
   "source": [
    "#Importing packages\n",
    "import numpy as np\n",
    "import keras \n",
    "from keras import backend as K\n",
    "from keras.preprocessing.image import ImageDataGenerator, array_to_img, img_to_array, load_img\n",
    "from keras.layers import Conv2D, Input, Dense, Lambda, multiply, AveragePooling2D, Concatenate, Flatten, Dropout, MaxPooling2D, BatchNormalization\n",
    "from keras.engine.topology import Layer\n",
    "from skimage.transform import rescale, resize\n",
    "from keras.models import Model\n",
    "from keras.utils import np_utils\n",
    "from keras.models import load_model\n",
    "import tensorflow as tf\n",
    "from tensorflow.python.framework import function\n",
    "\n",
    "import pickle\n",
    "from sklearn.linear_model import SGDClassifier\n",
    "\n",
    "import matplotlib.pyplot as plt\n",
    "%matplotlib inline\n",
    "\n",
    "K.set_image_dim_ordering('tf')\n",
    "K.set_image_data_format('channels_last')"
   ]
  },
  {
   "cell_type": "code",
   "execution_count": 2,
   "metadata": {},
   "outputs": [],
   "source": [
    "# params\n",
    "seed = 76"
   ]
  },
  {
   "cell_type": "code",
   "execution_count": 3,
   "metadata": {},
   "outputs": [],
   "source": [
    "# Defining Values\n",
    "bins = 8         # number of bins in histogram\n",
    "w = 2*np.pi/bins     # width of each bin\n",
    "centers = np.arange(-np.pi, np.pi, w) + 0.5*w   #centers of each bin\n",
    "\n",
    "cell_size = 8   # Each cell will contain cell_size^2 pixels\n",
    "block_size = 2  # Each block will contain block_size^2 pixels\n",
    "batch_size = 100"
   ]
  },
  {
   "cell_type": "code",
   "execution_count": 4,
   "metadata": {},
   "outputs": [],
   "source": [
    "# Defining Weights for the vertical and horizontal convolutions to calculate the image gradients\n",
    "prewitt_x = np.array([[-1, 0, 1], [-1, 0, 1], [-1, 0, 1]]).reshape((1, 3, 3, 1, 1)) + 0.01*np.random.randn(1, 3, 3, 1, 1)\n",
    "prewitt_y = np.array([[-1, -1, -1], [0, 0, 0], [1, 1, 1]]).reshape((1, 3, 3, 1, 1)) + 0.01*np.random.randn(1, 3, 3, 1, 1)\n",
    "\n",
    "cent = np.vstack((np.sin(centers), np.cos(centers))).reshape((1, 1, 1, 2, 8))"
   ]
  },
  {
   "cell_type": "code",
   "execution_count": 5,
   "metadata": {},
   "outputs": [],
   "source": [
    "# Generating Filters for the Bin Operations\n",
    "def create_bin_filters(bin_dim):\n",
    "    filters = np.zeros((bin_dim**2, bin_dim, bin_dim))\n",
    "\n",
    "    count = 0 \n",
    "    for i in range(bin_dim):\n",
    "        for j in range(bin_dim):\n",
    "            filters[count, i, j] = 1\n",
    "            count += 1\n",
    "    return filters   "
   ]
  },
  {
   "cell_type": "code",
   "execution_count": 6,
   "metadata": {},
   "outputs": [],
   "source": [
    "# bin_dim must be 2\n",
    "# Increasing this will require the adding of some more tf.nn.depthwise_conv2d functions. There is one for each element in a single filter (i.e bin_dim^2)\n",
    "\n",
    "b_flt = create_bin_filters(2)\n",
    "bin_filters_n = b_flt.reshape((b_flt.shape[0], b_flt.shape[1], b_flt.shape[2], 1)).repeat(bins, 3) # Simply copying each filter anlong the last axis to satisfy the required shape for weights array (see Tensorflow docs for tf.nn.depthwise_conv2d)"
   ]
  },
  {
   "cell_type": "code",
   "execution_count": 7,
   "metadata": {},
   "outputs": [],
   "source": [
    "# Reshaping to satisfy required shape for weight array\n",
    "bin_filters = bin_filters_n.reshape(bin_filters_n.shape[0], bin_filters_n.shape[1], bin_filters_n.shape[2], bin_filters_n.shape[3], 1).astype(np.float32)"
   ]
  },
  {
   "cell_type": "code",
   "execution_count": 8,
   "metadata": {},
   "outputs": [],
   "source": [
    "def init_prewitt_x(shape, dtype=None):\n",
    "    shp = prewitt_x.shape\n",
    "    weight = K.variable(prewitt_x) + K.random_normal_variable(shp, mean=0.0, scale=0.001, dtype=dtype)\n",
    "    return weight\n",
    "\n",
    "def init_prewitt_y(shape, dtype=None):\n",
    "    shp = prewitt_y.shape\n",
    "    weight = K.variable(prewitt_y) + K.random_normal_variable(shp, mean=0.0, scale=0.001, dtype=dtype)\n",
    "    return weight"
   ]
  },
  {
   "cell_type": "code",
   "execution_count": 9,
   "metadata": {},
   "outputs": [],
   "source": [
    "# Model HyperParameters\n",
    "cell_dim = 8\n",
    "bin_dim = 2\n",
    "bin_stride_length = 1\n",
    "bs = bin_stride_length\n",
    "\n",
    "# Number of cells along each dim \n",
    "cell_nb = 128//cell_dim\n",
    "assert not 128 % cell_dim"
   ]
  },
  {
   "cell_type": "code",
   "execution_count": 10,
   "metadata": {},
   "outputs": [],
   "source": [
    "filt1 = tf.convert_to_tensor(bin_filters[0, :, :, :, :])\n",
    "filt2 = tf.convert_to_tensor(bin_filters[1, :, :, :, :])\n",
    "filt3 = tf.convert_to_tensor(bin_filters[2, :, :, :, :])\n",
    "filt4 = tf.convert_to_tensor(bin_filters[3, :, :, :, :])"
   ]
  },
  {
   "cell_type": "code",
   "execution_count": 11,
   "metadata": {},
   "outputs": [],
   "source": [
    "def calculate_magnitudes(conv_stacked):\n",
    "    #b_bound = 10.0e-10\n",
    "    #b_fill = tf.fill(tf.shape(conv_stacked), tf.constant(b_bound))\n",
    "    \n",
    "    #mag = tf.where(tf.abs(conv_stacked) < b_bound, b_fill, conv_stacked)\n",
    "    mags = tf.norm((conv_stacked), axis=3)\n",
    "    return mags\n",
    "\n",
    "def calculate_angles(conv_stacked):\n",
    "    angles = tf.atan2(conv_stacked[:, :, :, 1], conv_stacked[:, :, :, 0])\n",
    "    return angles\n",
    "\n",
    "def calculate_sin_cos(angles):\n",
    "    sin = K.sin(angles)\n",
    "    cos = K.cos(angles)\n",
    "    sin_cos = K.stack([sin, cos], axis =-1)\n",
    "    return sin_cos\n",
    "   \n",
    "def bins1(cells):\n",
    "    c_bins = tf.nn.depthwise_conv2d(cells, filt1, strides = (1, bs, bs, 1), padding=\"SAME\")\n",
    "    return c_bins\n",
    "\n",
    "def bins2(cells):\n",
    "    c_bins = tf.nn.depthwise_conv2d(cells, filt2, strides = (1, bs, bs, 1), padding=\"SAME\")\n",
    "    return c_bins \n",
    "\n",
    "def bins3(cells):\n",
    "    c_bins = tf.nn.depthwise_conv2d(cells, filt3, strides = (1, bs, bs, 1), padding=\"SAME\")\n",
    "    return c_bins\n",
    "\n",
    "def bins4(cells):\n",
    "    c_bins = tf.nn.depthwise_conv2d(cells, filt4, strides = (1, bs, bs, 1), padding=\"SAME\")\n",
    "    return c_bins\n",
    "\n",
    "def bin_norm(bins_layer):\n",
    "    bins_norm = tf.div(bins_layer, tf.expand_dims(tf.sqrt(tf.norm(bins_layer, axis=-1)+0.00000001), -1))\n",
    "    return bins_norm\n",
    "\n",
    "def hog_norm(bins_layer):\n",
    "    hog_norms = tf.div(bins_layer, tf.expand_dims(tf.sqrt(tf.norm(bins_layer, axis=-1)+0.00000001), -1))\n",
    "    hog_norms_2 = tf.div(hog_norms, tf.expand_dims(tf.sqrt(tf.norm(hog_norms, axis=-1)+0.00000001), -1))\n",
    "    return hog_norms_2\n",
    "\n",
    "def bins_flatten(bins_norm):\n",
    "    bins_flattened = tf.reshape(bins_norm, (batch_size, (cell_nb-bs)*(cell_nb-bs)*bins*(bin_dim**2)))\n",
    "    return bins_flattened\n",
    "\n",
    "def tensorflow_dense(bins_flattened):\n",
    "    logistic = tf.layers.dense(inputs=bins_flattened, units = 2, activation=\"sigmoid\")\n",
    "    return logistic"
   ]
  },
  {
   "cell_type": "code",
   "execution_count": 12,
   "metadata": {
    "scrolled": true
   },
   "outputs": [
    {
     "name": "stderr",
     "output_type": "stream",
     "text": [
      "C:\\Users\\fires\\Anaconda3\\envs\\CSIRO\\lib\\site-packages\\ipykernel_launcher.py:24: UserWarning: Update your `Conv2D` call to the Keras 2 API: `Conv2D(8, kernel_size=(1, 1), strides=(1, 1), activation=\"relu\", trainable=True, name=\"votes\", use_bias=False)`\n"
     ]
    }
   ],
   "source": [
    "# Building Model \n",
    "inputs = Input(shape = (256, 256, 1), name=\"input\")\n",
    "\n",
    "# Convolutions\n",
    "x_conv = Conv2D(1, (3,3), strides=1, padding=\"same\", data_format=\"channels_last\", trainable=True, use_bias=False, name=\"conv_x\")(inputs)\n",
    "y_conv = Conv2D(1, (3,3), strides=1, padding=\"same\", data_format=\"channels_last\", trainable=True, use_bias=False, name=\"conv_y\")(inputs)\n",
    "\n",
    "# Stacking since it appears you cannot have more than a single input into a layer (i.e mags and angles)\n",
    "conv_stacked = Concatenate(axis=-1, name=\"Conv_Stacked\")([x_conv, y_conv])\n",
    "\n",
    "# Calculating the gradient magnitudes and angles\n",
    "mags = Lambda(calculate_magnitudes, output_shape=(256, 256), name=\"mags1\")(conv_stacked)\n",
    "mags = Lambda(lambda x: K.stack((mags, mags), axis=-1), name=\"mags2\")(mags)   # To enable sin_cos_vec \n",
    "angles = Lambda(calculate_angles, output_shape=(256, 256), name=\"angles\")(conv_stacked)\n",
    "\n",
    "# Calculating the components of angles in the x and y direction\n",
    "# Then multiplying by magnitudes, giving angle vectors\n",
    "sin_cos = Lambda(calculate_sin_cos, output_shape=(256, 256, 2), name=\"sin_cos\")(angles)\n",
    "sin_cos_vec = multiply([sin_cos, mags], name=\"sin_cos_mag\")\n",
    "\n",
    "# Applying each filter (representing a single bin unit vector) to every angle vector in the image.\n",
    "# Result is an array with shape (img_height, img_width, bins) where each bin is contains an angle vectors contribution to each bin\n",
    "# Relu activation function to remove negative projections (represented by negative scalar dot products).\n",
    "votes = Conv2D(8, kernel_size=(1, 1), strides=(1, 1), activation=\"relu\", trainable=True, bias=False, name=\"votes\")(sin_cos_vec) \n",
    "\n",
    "# A round about way of splitting the image (i.e vote array) into a bunch of non-overlapping cells of size (cell_size, cell_size)\n",
    "# then concateting values at each bin level, giving shape of (cell_nb, cell_nb, bins)\n",
    "# Result is an array of cells with histograms along the final axis\n",
    "cells = AveragePooling2D(pool_size=cell_size, strides=cell_size, name=\"cells\")(votes)\n",
    "cells = Lambda(lambda x: x * (cell_size**2), name=\"cells2\")(cells)\n",
    "\n",
    "# Bin Operations\n",
    "# Assuming that bin shape = (2, 2)\n",
    "# A round about way of grouping the cells into overlapping blocks of 2 * 2 cells each. \n",
    "# Two horizontally or vertically consecutive blocks overlap by two cells, that is, the block strides. \n",
    "# As a consequence, each internal cell is covered by four blocks (if bin_dim=2).\n",
    "bins1_layer = Lambda(bins1, trainable=True, name=\"bins1\")(cells)\n",
    "bins2_layer = Lambda(bins2, trainable=True, name=\"bins2\")(cells)\n",
    "bins3_layer = Lambda(bins3, trainable=True, name=\"bins3\")(cells)\n",
    "bins4_layer = Lambda(bins4, trainable=True, name=\"bins4\")(cells)\n",
    "bins_layer = Concatenate(axis=-1)([bins1_layer, bins2_layer, bins3_layer, bins4_layer])\n",
    "\n",
    "# normalize each block feature by its Euclidean norm\n",
    "bins_norm_layer = Lambda(bin_norm, name=\"norm1\")(bins_layer)\n",
    "hog_norm_layer = Lambda(hog_norm, name=\"norm2\")(bins_norm_layer)\n",
    "#bin_flatten_layer = Lambda(bins_flatten, name=\"flat\")(hog_norm_layer)  # Flatten Resulting array\n",
    "\n",
    "# Block 1\n",
    "x = Conv2D(4, (3, 3), activation='relu', padding='same', name='block1_conv1')(hog_norm_layer)\n",
    "x = Conv2D(4, (3, 3), activation='relu', padding='same', name='block1_conv2')(x)\n",
    "x = Conv2D(4, (3, 3), activation='relu', padding='same', name='block1_conv3')(x)\n",
    "x = MaxPooling2D((2, 2), strides=(2, 2), name='block1_pool')(x)\n",
    "\n",
    "# Block 2\n",
    "x = Conv2D(8, (3, 3), activation='relu', padding='same', name='block2_conv1')(x)\n",
    "x = Conv2D(8, (3, 3), activation='relu', padding='same', name='block2_conv2')(x)\n",
    "x = Conv2D(8, (3, 3), activation='relu', padding='same', name='block2_conv3')(x)\n",
    "x = MaxPooling2D((2, 2), strides=(2, 2), name='block2_pool')(x)\n",
    "\n",
    "# Dense\n",
    "x = Flatten(name='flat')(x)\n",
    "x = Dense(50, activation='relu', name='fc1')(x)\n",
    "x = Dropout(0.2)(x)\n",
    "x = Dense(50, activation='relu', name='fc2')(x)\n",
    "x = Dropout(0.2)(x)\n",
    "x = Dense(50, activation='relu', name='fc3')(x)\n",
    "x = Dropout(0.2)(x)\n",
    "logistic_reg = Dense(2, activation = \"softmax\", trainable=True, name=\"lr\")(x)"
   ]
  },
  {
   "cell_type": "code",
   "execution_count": 13,
   "metadata": {},
   "outputs": [],
   "source": [
    "model = Model(inputs=inputs, outputs=logistic_reg)"
   ]
  },
  {
   "cell_type": "code",
   "execution_count": 14,
   "metadata": {},
   "outputs": [],
   "source": [
    "model.layers[1].set_weights(prewitt_x)\n",
    "model.layers[2].set_weights(prewitt_y)\n",
    "model.layers[9].set_weights(cent)"
   ]
  },
  {
   "cell_type": "code",
   "execution_count": 15,
   "metadata": {},
   "outputs": [
    {
     "name": "stdout",
     "output_type": "stream",
     "text": [
      "__________________________________________________________________________________________________\n",
      "Layer (type)                    Output Shape         Param #     Connected to                     \n",
      "==================================================================================================\n",
      "input (InputLayer)              (None, 256, 256, 1)  0                                            \n",
      "__________________________________________________________________________________________________\n",
      "conv_x (Conv2D)                 (None, 256, 256, 1)  9           input[0][0]                      \n",
      "__________________________________________________________________________________________________\n",
      "conv_y (Conv2D)                 (None, 256, 256, 1)  9           input[0][0]                      \n",
      "__________________________________________________________________________________________________\n",
      "Conv_Stacked (Concatenate)      (None, 256, 256, 2)  0           conv_x[0][0]                     \n",
      "                                                                 conv_y[0][0]                     \n",
      "__________________________________________________________________________________________________\n",
      "angles (Lambda)                 (None, 256, 256)     0           Conv_Stacked[0][0]               \n",
      "__________________________________________________________________________________________________\n",
      "mags1 (Lambda)                  (None, 256, 256)     0           Conv_Stacked[0][0]               \n",
      "__________________________________________________________________________________________________\n",
      "sin_cos (Lambda)                (None, 256, 256, 2)  0           angles[0][0]                     \n",
      "__________________________________________________________________________________________________\n",
      "mags2 (Lambda)                  (None, 256, 256, 2)  0           mags1[0][0]                      \n",
      "__________________________________________________________________________________________________\n",
      "sin_cos_mag (Multiply)          (None, 256, 256, 2)  0           sin_cos[0][0]                    \n",
      "                                                                 mags2[0][0]                      \n",
      "__________________________________________________________________________________________________\n",
      "votes (Conv2D)                  (None, 256, 256, 8)  16          sin_cos_mag[0][0]                \n",
      "__________________________________________________________________________________________________\n",
      "cells (AveragePooling2D)        (None, 32, 32, 8)    0           votes[0][0]                      \n",
      "__________________________________________________________________________________________________\n",
      "cells2 (Lambda)                 (None, 32, 32, 8)    0           cells[0][0]                      \n",
      "__________________________________________________________________________________________________\n",
      "bins1 (Lambda)                  (None, 32, 32, 8)    0           cells2[0][0]                     \n",
      "__________________________________________________________________________________________________\n",
      "bins2 (Lambda)                  (None, 32, 32, 8)    0           cells2[0][0]                     \n",
      "__________________________________________________________________________________________________\n",
      "bins3 (Lambda)                  (None, 32, 32, 8)    0           cells2[0][0]                     \n",
      "__________________________________________________________________________________________________\n",
      "bins4 (Lambda)                  (None, 32, 32, 8)    0           cells2[0][0]                     \n",
      "__________________________________________________________________________________________________\n",
      "concatenate_1 (Concatenate)     (None, 32, 32, 32)   0           bins1[0][0]                      \n",
      "                                                                 bins2[0][0]                      \n",
      "                                                                 bins3[0][0]                      \n",
      "                                                                 bins4[0][0]                      \n",
      "__________________________________________________________________________________________________\n",
      "norm1 (Lambda)                  (None, 32, 32, 32)   0           concatenate_1[0][0]              \n",
      "__________________________________________________________________________________________________\n",
      "norm2 (Lambda)                  (None, 32, 32, 32)   0           norm1[0][0]                      \n",
      "__________________________________________________________________________________________________\n",
      "block1_conv1 (Conv2D)           (None, 32, 32, 4)    1156        norm2[0][0]                      \n",
      "__________________________________________________________________________________________________\n",
      "block1_conv2 (Conv2D)           (None, 32, 32, 4)    148         block1_conv1[0][0]               \n",
      "__________________________________________________________________________________________________\n",
      "block1_conv3 (Conv2D)           (None, 32, 32, 4)    148         block1_conv2[0][0]               \n",
      "__________________________________________________________________________________________________\n",
      "block1_pool (MaxPooling2D)      (None, 16, 16, 4)    0           block1_conv3[0][0]               \n",
      "__________________________________________________________________________________________________\n",
      "block2_conv1 (Conv2D)           (None, 16, 16, 8)    296         block1_pool[0][0]                \n",
      "__________________________________________________________________________________________________\n",
      "block2_conv2 (Conv2D)           (None, 16, 16, 8)    584         block2_conv1[0][0]               \n",
      "__________________________________________________________________________________________________\n",
      "block2_conv3 (Conv2D)           (None, 16, 16, 8)    584         block2_conv2[0][0]               \n",
      "__________________________________________________________________________________________________\n",
      "block2_pool (MaxPooling2D)      (None, 8, 8, 8)      0           block2_conv3[0][0]               \n",
      "__________________________________________________________________________________________________\n",
      "flat (Flatten)                  (None, 512)          0           block2_pool[0][0]                \n",
      "__________________________________________________________________________________________________\n",
      "fc1 (Dense)                     (None, 50)           25650       flat[0][0]                       \n",
      "__________________________________________________________________________________________________\n",
      "dropout_1 (Dropout)             (None, 50)           0           fc1[0][0]                        \n",
      "__________________________________________________________________________________________________\n",
      "fc2 (Dense)                     (None, 50)           2550        dropout_1[0][0]                  \n",
      "__________________________________________________________________________________________________\n",
      "dropout_2 (Dropout)             (None, 50)           0           fc2[0][0]                        \n",
      "__________________________________________________________________________________________________\n",
      "fc3 (Dense)                     (None, 50)           2550        dropout_2[0][0]                  \n",
      "__________________________________________________________________________________________________\n",
      "dropout_3 (Dropout)             (None, 50)           0           fc3[0][0]                        \n",
      "__________________________________________________________________________________________________\n",
      "lr (Dense)                      (None, 2)            102         dropout_3[0][0]                  \n",
      "==================================================================================================\n",
      "Total params: 33,802\n",
      "Trainable params: 33,802\n",
      "Non-trainable params: 0\n",
      "__________________________________________________________________________________________________\n"
     ]
    }
   ],
   "source": [
    "model.summary()"
   ]
  },
  {
   "cell_type": "code",
   "execution_count": 16,
   "metadata": {},
   "outputs": [],
   "source": [
    "# Adding tiny Gaussian Noise to ensure there are no vanishing and exploding gradients\n",
    "def add_noise(image):\n",
    "        image += (10e-10)*np.random.randn(image.shape[0], image.shape[1], 1)\n",
    "        return image\n",
    "\n",
    "    \n",
    "rotation_range=180\n",
    "zoom_range=0.2\n",
    "#shift_range = 0.0\n",
    "flip=True\n",
    "    \n",
    "   \n",
    "datagen = ImageDataGenerator(\n",
    "            rotation_range = rotation_range,\n",
    "            zoom_range = zoom_range,\n",
    "            #width_shift_range = shift_range,\n",
    "            #height_shift_range = shift_range,\n",
    "            horizontal_flip = flip,\n",
    "            vertical_flip = flip,\n",
    "            fill_mode = \"nearest\",\n",
    "            preprocessing_function=add_noise)\n"
   ]
  },
  {
   "cell_type": "code",
   "execution_count": 17,
   "metadata": {},
   "outputs": [
    {
     "ename": "SyntaxError",
     "evalue": "invalid syntax (format_data.py, line 5)",
     "output_type": "error",
     "traceback": [
      "Traceback \u001b[1;36m(most recent call last)\u001b[0m:\n",
      "  File \u001b[0;32m\"C:\\Users\\fires\\Anaconda3\\envs\\CSIRO\\lib\\site-packages\\IPython\\core\\interactiveshell.py\"\u001b[0m, line \u001b[0;32m2910\u001b[0m, in \u001b[0;35mrun_code\u001b[0m\n    exec(code_obj, self.user_global_ns, self.user_ns)\n",
      "\u001b[1;36m  File \u001b[1;32m\"<ipython-input-17-cb0de59a5622>\"\u001b[1;36m, line \u001b[1;32m1\u001b[1;36m, in \u001b[1;35m<module>\u001b[1;36m\u001b[0m\n\u001b[1;33m    from format_data import get_data, data_gen\u001b[0m\n",
      "\u001b[1;36m  File \u001b[1;32m\"C:\\Users\\fires\\Desktop\\CSIRO\\thursday\\final release\\format_data.py\"\u001b[1;36m, line \u001b[1;32m5\u001b[0m\n\u001b[1;33m    from astropy.io.ascii as asc\u001b[0m\n\u001b[1;37m                           ^\u001b[0m\n\u001b[1;31mSyntaxError\u001b[0m\u001b[1;31m:\u001b[0m invalid syntax\n"
     ]
    }
   ],
   "source": [
    "from format_data import get_data, data_gen\n",
    "seed = 0\n",
    "\n",
    "#datagen = data_gen(rotation_range=180, zoom_range=0.2, shift_range = 0.0, flip=True)\n",
    "train_x, train_y, test_x, test_y = get_data(r\"data.h5\", \"asu.tsv\", dim=256, seed=seed)"
   ]
  },
  {
   "cell_type": "code",
   "execution_count": null,
   "metadata": {},
   "outputs": [],
   "source": [
    "model.compile(optimizer='adam', loss='binary_crossentropy', metrics=[\"accuracy\"])"
   ]
  },
  {
   "cell_type": "code",
   "execution_count": null,
   "metadata": {},
   "outputs": [],
   "source": [
    "history = model.fit_generator(datagen.flow(train_x, train_y, batch_size=20, shuffle=True), steps_per_epoch=100, epochs=10, \n",
    "                              validation_data=datagen.flow(test_x, test_y, batch_size=20, shuffle=True), validation_steps=20)"
   ]
  },
  {
   "cell_type": "code",
   "execution_count": null,
   "metadata": {},
   "outputs": [],
   "source": [
    "plt.plot(history.history['acc'])\n",
    "plt.plot(history.history['val_acc'])\n",
    "plt.title('model accuracy')\n",
    "plt.ylabel('accuracy')\n",
    "plt.xlabel('epoch')\n",
    "plt.legend(['train', 'test'], loc='upper left')\n",
    "plt.grid(True)\n",
    "plt.show() "
   ]
  },
  {
   "cell_type": "code",
   "execution_count": null,
   "metadata": {},
   "outputs": [],
   "source": [
    "# serialize weights to HDF5\n",
    "model.save_weights(\"weights_hogconv.h5\")\n",
    "print(\"Saved model to disk\")"
   ]
  },
  {
   "cell_type": "code",
   "execution_count": null,
   "metadata": {},
   "outputs": [],
   "source": []
  }
 ],
 "metadata": {
  "kernelspec": {
   "display_name": "Python 3",
   "language": "python",
   "name": "python3"
  },
  "language_info": {
   "codemirror_mode": {
    "name": "ipython",
    "version": 3
   },
   "file_extension": ".py",
   "mimetype": "text/x-python",
   "name": "python",
   "nbconvert_exporter": "python",
   "pygments_lexer": "ipython3",
   "version": "3.6.4"
  }
 },
 "nbformat": 4,
 "nbformat_minor": 2
}
