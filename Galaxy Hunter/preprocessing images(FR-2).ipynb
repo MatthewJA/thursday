{
 "cells": [
  {
   "cell_type": "code",
   "execution_count": 1,
   "metadata": {},
   "outputs": [
    {
     "name": "stderr",
     "output_type": "stream",
     "text": [
      "/home/ubuntu/anaconda3/envs/tensorflow_p36/lib/python3.6/site-packages/matplotlib/__init__.py:962: UserWarning: Duplicate key in file \"/home/ubuntu/.config/matplotlib/matplotlibrc\", line #2\n",
      "  (fname, cnt))\n",
      "/home/ubuntu/anaconda3/envs/tensorflow_p36/lib/python3.6/site-packages/matplotlib/__init__.py:962: UserWarning: Duplicate key in file \"/home/ubuntu/.config/matplotlib/matplotlibrc\", line #3\n",
      "  (fname, cnt))\n",
      "/home/ubuntu/anaconda3/envs/tensorflow_p36/lib/python3.6/site-packages/h5py/__init__.py:36: FutureWarning: Conversion of the second argument of issubdtype from `float` to `np.floating` is deprecated. In future, it will be treated as `np.float64 == np.dtype(float).type`.\n",
      "  from ._conv import register_converters as _register_converters\n",
      "Using TensorFlow backend.\n"
     ]
    }
   ],
   "source": [
    "import numpy as np\n",
    "import pickle \n",
    "import matplotlib.pyplot as plt\n",
    "from scipy import *\n",
    "import scipy.misc\n",
    "import os\n",
    "import h5py\n",
    "\n",
    "import keras\n",
    "from keras.preprocessing.image import ImageDataGenerator, array_to_img, img_to_array, load_img\n",
    "from keras import backend as K\n",
    "from keras.layers import Dense, Activation, Dropout\n",
    "from keras.optimizers import SGD, adam\n",
    "from keras.models import Sequential\n",
    "from keras.losses import categorical_crossentropy\n",
    "from keras.utils import np_utils\n",
    "\n",
    "from skimage.feature import hog\n",
    "from skimage import data, exposure\n",
    "from skimage.transform import rescale, resize\n",
    "\n",
    "from sklearn.utils import shuffle\n",
    "#import astropy.visualization as vis"
   ]
  },
  {
   "cell_type": "code",
   "execution_count": 2,
   "metadata": {},
   "outputs": [],
   "source": [
    "# Setting directory paths \n",
    "root_dir = os.getcwd()\n",
    "\n",
    "# Loading data\n",
    "data = h5py.File(r'data.h5', 'r')\n",
    "random_radio = h5py.File(r'random_1000.h5', 'r')\n",
    "\n",
    "# Unpacking data\n",
    "images_raw = np.asarray(data['images'])\n",
    "labels_raw = data['labels']\n",
    "\n",
    "images_radio = np.asarray(random_radio['images'])"
   ]
  },
  {
   "cell_type": "code",
   "execution_count": 3,
   "metadata": {},
   "outputs": [
    {
     "name": "stdout",
     "output_type": "stream",
     "text": [
      "(1000, 300, 300)\n"
     ]
    }
   ],
   "source": [
    "print(images_radio.shape)"
   ]
  },
  {
   "cell_type": "code",
   "execution_count": 4,
   "metadata": {},
   "outputs": [],
   "source": [
    "#Deleting Empty arrays\n",
    "zero_ind = [i for (i,v) in enumerate(images_radio) if np.mean(v)==0. or np.isnan(np.mean(v))==True]\n",
    "images_radio_clean = np.delete(images_radio, zero_ind, 0)"
   ]
  },
  {
   "cell_type": "code",
   "execution_count": 5,
   "metadata": {},
   "outputs": [
    {
     "data": {
      "text/plain": [
       "(890, 300, 300)"
      ]
     },
     "execution_count": 5,
     "metadata": {},
     "output_type": "execute_result"
    }
   ],
   "source": [
    "images_radio_clean.shape"
   ]
  },
  {
   "cell_type": "code",
   "execution_count": 6,
   "metadata": {},
   "outputs": [
    {
     "data": {
      "text/plain": [
       "'for n in range(0, imgs.shape[0]):\\n    fig = plt.figure(figsize=(6, 6))\\n    \\n    plt.subplot(1, 2, 2)\\n    ax1 = fig.add_subplot(1,2,1)\\n    plt.imshow(imgs[n,:,:], cmap=\\'viridis\\', shape=(300, 300))\\n    ax1 = fig.add_subplot(1,2,2)\\n    plt.imshow(stretch(imgs[n,:,:]), cmap=\\'viridis\\', shape=(300, 300))\\n    plt.show()\\n    print (\"image with index  \", n, \"  with mean \", np.mean(imgs[n,:,:]))\\n    if np.isnan(np.mean(imgs[n,:,:])) ==True:\\n        print (\"you\\'ve got nans!\")\\n        \\n'"
      ]
     },
     "execution_count": 6,
     "metadata": {},
     "output_type": "execute_result"
    }
   ],
   "source": [
    "# Visually Inspecting Images\n",
    "#stretch = vis.AsinhStretch(1e-2) + vis.MinMaxInterval()\n",
    "\n",
    "#imgs = np.reshape(images_radio_clean, (-1, images_radio_clean.shape[1], images_radio_clean.shape[2]))\n",
    "#imgs.shape\n",
    "\n",
    "\"\"\"for n in range(0, imgs.shape[0]):\n",
    "    fig = plt.figure(figsize=(6, 6))\n",
    "    \n",
    "    plt.subplot(1, 2, 2)\n",
    "    ax1 = fig.add_subplot(1,2,1)\n",
    "    plt.imshow(imgs[n,:,:], cmap='viridis', shape=(300, 300))\n",
    "    ax1 = fig.add_subplot(1,2,2)\n",
    "    plt.imshow(stretch(imgs[n,:,:]), cmap='viridis', shape=(300, 300))\n",
    "    plt.show()\n",
    "    print (\"image with index  \", n, \"  with mean \", np.mean(imgs[n,:,:]))\n",
    "    if np.isnan(np.mean(imgs[n,:,:])) ==True:\n",
    "        print (\"you've got nans!\")\n",
    "        \n",
    "\"\"\"\n"
   ]
  },
  {
   "cell_type": "code",
   "execution_count": 7,
   "metadata": {},
   "outputs": [],
   "source": [
    "FR1_ind = np.array([46, 77, 104, 587])\n",
    "FR2_ind = np.array([3, 23, 34, 41, 52, 54, 63, 65, 70, 89, 101, 114, 139, 144, 191, 205, 229, 232, 238, 256, 267, 269, 279, 281, 286, 313, 329, 345, 364, 375, 385, 393, 421, 427, 430, 432, 437, 451, 455, 457, 458, 473, 492, 495, 502, 518, 521, 525, 526, 533, 545, 552, 554, 555, 556, 559, 562, 573, 593, 622, 627, 641, 668, 672, 700, 702, 709, 717, 718, 725, 767, 860, 880])"
   ]
  },
  {
   "cell_type": "code",
   "execution_count": 8,
   "metadata": {},
   "outputs": [
    {
     "data": {
      "text/plain": [
       "(73, 300, 300)"
      ]
     },
     "execution_count": 8,
     "metadata": {},
     "output_type": "execute_result"
    }
   ],
   "source": [
    "np.asarray(images_radio_clean)[FR2_ind].shape"
   ]
  },
  {
   "cell_type": "code",
   "execution_count": 9,
   "metadata": {},
   "outputs": [],
   "source": [
    "# Defining rescaling function\n",
    "def rescale_imgs(images):\n",
    "    img = np.zeros((images.shape[0], 256, 256))   # Empty Array\n",
    "    \n",
    "    for i in range(0 ,images.shape[0]):\n",
    "        img_scaled = resize(images[i, :, :], (256, 256))\n",
    "        img[i, :, :] = img_scaled\n",
    "   \n",
    "    return img    "
   ]
  },
  {
   "cell_type": "code",
   "execution_count": 10,
   "metadata": {},
   "outputs": [
    {
     "name": "stderr",
     "output_type": "stream",
     "text": [
      "/home/ubuntu/anaconda3/envs/tensorflow_p36/lib/python3.6/site-packages/skimage/transform/_warps.py:84: UserWarning: The default mode, 'constant', will be changed to 'reflect' in skimage 0.15.\n",
      "  warn(\"The default mode, 'constant', will be changed to 'reflect' in \"\n"
     ]
    }
   ],
   "source": [
    "images = rescale_imgs(images_raw)\n",
    "neg = rescale_imgs(images_radio_clean)"
   ]
  },
  {
   "cell_type": "code",
   "execution_count": 11,
   "metadata": {},
   "outputs": [],
   "source": [
    "# balance classes\n",
    "def formatting_classes(pos_images, pos_labels, neg_images):\n",
    "    # Splitting positive data into FR1's and FR2'2\n",
    "    class1 = []\n",
    "    class2 = []\n",
    "    \n",
    "    for i in range(pos_labels.shape[0]):\n",
    "        if pos_labels[i] == False:\n",
    "            class1.append(i)\n",
    "    \n",
    "    for i in range(pos_labels.shape[0]):\n",
    "        if pos_labels[i] == True:\n",
    "            class2.append(i)\n",
    "        \n",
    "    images1 = pos_images[class1, :, :] \n",
    "    images2 = pos_images[class2, :, :]\n",
    "    \n",
    "    \n",
    "    # Removing samples that look very much like FR1's and FR'2 from our negative data\n",
    "    neg1 = np.delete(neg_images, FR1_ind, 0)  #Negative data for FR1 classifier\n",
    "    neg2 = np.delete(neg_images, FR2_ind, 0)  #Negative data for FR2 classifier\n",
    "    \n",
    "    \n",
    "    # Adding those deleted samples to the positve dataset\n",
    "    images2_stack = np.vstack((images2, neg_images[FR2_ind]))\n",
    "    \n",
    "    # Adding the opposite classes to neg data to the\n",
    "    neg1 = np.vstack((neg1, images2))\n",
    "    neg2 = np.vstack((neg2, images1))\n",
    "    \n",
    "    # Shuffling images\n",
    "    images1 = shuffle(images1, random_state = 0)    \n",
    "    images2_stack = shuffle(images2_stack, random_state = 0) \n",
    "    neg1 = shuffle(neg1, random_state = 0)  \n",
    "    neg2 = shuffle(neg2, random_state = 0) \n",
    "    \n",
    "    return images1, images2_stack, neg1, neg2"
   ]
  },
  {
   "cell_type": "code",
   "execution_count": 12,
   "metadata": {},
   "outputs": [],
   "source": [
    "images1, images2, neg1, neg2  = formatting_classes(np.asarray(images), np.asarray(labels_raw), neg)"
   ]
  },
  {
   "cell_type": "code",
   "execution_count": 13,
   "metadata": {},
   "outputs": [
    {
     "data": {
      "text/plain": [
       "(1009, 256, 256)"
      ]
     },
     "execution_count": 13,
     "metadata": {},
     "output_type": "execute_result"
    }
   ],
   "source": [
    "neg1.shape"
   ]
  },
  {
   "cell_type": "code",
   "execution_count": 14,
   "metadata": {},
   "outputs": [],
   "source": [
    "images1_cut = images1[:190]\n",
    "images2_cut = images2[:190]\n",
    "neg1_cut = neg1[:1004]\n",
    "neg2_cut = neg2[:1004]"
   ]
  },
  {
   "cell_type": "code",
   "execution_count": 15,
   "metadata": {},
   "outputs": [],
   "source": [
    "def format_data(images, ratio = 0.5):\n",
    "    split = round(ratio*images.shape[0])\n",
    "    \n",
    "    train = images[ :split, :]\n",
    "    test = images[split:, :]\n",
    "    \n",
    "    return train, test\n",
    "\n",
    "train_pos1, test_pos1  = format_data(images1_cut)\n",
    "train_pos2, test_pos2  = format_data(images2_cut)\n",
    "train_neg1, test_neg1  = format_data(neg1_cut)\n",
    "train_neg2, test_neg2  = format_data(neg2_cut)"
   ]
  },
  {
   "cell_type": "code",
   "execution_count": 16,
   "metadata": {},
   "outputs": [
    {
     "data": {
      "text/plain": [
       "(502, 256, 256)"
      ]
     },
     "execution_count": 16,
     "metadata": {},
     "output_type": "execute_result"
    }
   ],
   "source": [
    "train_neg2.shape"
   ]
  },
  {
   "cell_type": "code",
   "execution_count": 17,
   "metadata": {},
   "outputs": [],
   "source": [
    "#imgs = np.reshape(images_shrunk, (-1, images_shrunk.shape[1], images_shrunk.shape[2]))\n",
    "\n",
    "#plt.figure(figsize=(12, 12))\n",
    "#for n in range(0, 16):\n",
    "    #plt.subplot(4, 4, 1 + n)\n",
    "    #plt.imshow(stretch(imgs[-n-1,:,:]), cmap='viridis', shape=(135, 135))\n",
    "    #plt.axis('off')\n",
    "    #plt.title(labels[n])"
   ]
  },
  {
   "cell_type": "code",
   "execution_count": 18,
   "metadata": {},
   "outputs": [],
   "source": [
    "#stretch = vis.AsinhStretch(1e-1) + vis.MinMaxInterval()\n",
    "\n",
    "#images_s = np.zeros((images_shrunk.shape[0], images_shrunk.shape[1], images_shrunk.shape[2]))\n",
    "\n",
    "#for i, images in enumerate(images_shrunk):\n",
    "    #images_s[i, :, :] = stretch(images_shrunk[i, :, :])"
   ]
  },
  {
   "cell_type": "code",
   "execution_count": 19,
   "metadata": {},
   "outputs": [],
   "source": [
    "def data_gen(images, size=18000, pos=True):\n",
    "\n",
    "    size=size/2\n",
    "    \n",
    "    batch_size = 20\n",
    "    samples = np.asarray(images).shape[0]\n",
    "\n",
    "    x = images.reshape((-1, images.shape[1],images.shape[2], 1))\n",
    "\n",
    "    if pos==True:\n",
    "        y = np.full(x.shape[0], 1)\n",
    "        \n",
    "        datagen = ImageDataGenerator(\n",
    "            rotation_range=180,\n",
    "            zoom_range=0.2,\n",
    "            width_shift_range=0.15,\n",
    "            height_shift_range=0.15,\n",
    "            horizontal_flip=True,\n",
    "            vertical_flip =True,\n",
    "            fill_mode = \"nearest\")\n",
    "    \n",
    "    elif pos==False:\n",
    "        y = np.full(x.shape[0], 0)\n",
    "        \n",
    "        datagen = ImageDataGenerator(\n",
    "            rotation_range=180,\n",
    "            zoom_range=0.2,\n",
    "            horizontal_flip=True,\n",
    "            vertical_flip =True,\n",
    "            fill_mode = \"nearest\")\n",
    "    \n",
    "    # the .flow() command below generates batches of randomly transformed images\n",
    "    # and saves the results to the `preview/` directory\n",
    "    gen = datagen.flow(x, y, batch_size=batch_size)\n",
    "\n",
    "    data_mult = int(floor(size/x.shape[0]))\n",
    "    \n",
    "    print (data_mult)\n",
    "    print (size/x.shape[0])\n",
    "    print (x.shape[0])\n",
    "\n",
    "    pro_images = np.zeros((x.shape[0]*data_mult, images.shape[1], images.shape[2], 1))\n",
    "    pro_labels = np.zeros((y.shape[0]*data_mult))\n",
    "    \n",
    "    print (pro_images.shape)\n",
    "    \n",
    "    for e in range(1, data_mult+1):\n",
    "        batch = 1\n",
    "        b = batch_size\n",
    "        b_start = samples*(e-1)\n",
    "\n",
    "        for X_batch, Y_batch in gen:\n",
    "            if batch < (samples/b):\n",
    "                pro_images[b_start+b*(batch-1):b_start+batch*b, :, :, :] = X_batch\n",
    "                pro_labels[b_start+b*(batch-1):b_start+batch*b] = Y_batch\n",
    "\n",
    "            else: \n",
    "                pro_images[b_start+b*(batch-1):b_start+b*(batch-1) + X_batch.shape[0]%b, :, :, :] = X_batch\n",
    "                pro_labels[b_start+b*(batch-1):b_start+b*(batch-1) + X_batch.shape[0]%b] = Y_batch\n",
    "                break\n",
    "\n",
    "\n",
    "            batch += 1\n",
    "        print(e)\n",
    "        \n",
    "    return pro_images, pro_labels"
   ]
  },
  {
   "cell_type": "code",
   "execution_count": 20,
   "metadata": {},
   "outputs": [
    {
     "name": "stdout",
     "output_type": "stream",
     "text": [
      "94\n",
      "94.73684210526316\n",
      "95\n",
      "(8930, 256, 256, 1)\n",
      "1\n",
      "2\n",
      "3\n",
      "4\n",
      "5\n",
      "6\n",
      "7\n",
      "8\n",
      "9\n",
      "10\n",
      "11\n",
      "12\n",
      "13\n",
      "14\n",
      "15\n",
      "16\n",
      "17\n",
      "18\n",
      "19\n",
      "20\n",
      "21\n",
      "22\n",
      "23\n",
      "24\n",
      "25\n",
      "26\n",
      "27\n",
      "28\n",
      "29\n",
      "30\n",
      "31\n",
      "32\n",
      "33\n",
      "34\n",
      "35\n",
      "36\n",
      "37\n",
      "38\n",
      "39\n",
      "40\n",
      "41\n",
      "42\n",
      "43\n",
      "44\n",
      "45\n",
      "46\n",
      "47\n",
      "48\n",
      "49\n",
      "50\n",
      "51\n",
      "52\n",
      "53\n",
      "54\n",
      "55\n",
      "56\n",
      "57\n",
      "58\n",
      "59\n",
      "60\n",
      "61\n",
      "62\n",
      "63\n",
      "64\n",
      "65\n",
      "66\n",
      "67\n",
      "68\n",
      "69\n",
      "70\n",
      "71\n",
      "72\n",
      "73\n",
      "74\n",
      "75\n",
      "76\n",
      "77\n",
      "78\n",
      "79\n",
      "80\n",
      "81\n",
      "82\n",
      "83\n",
      "84\n",
      "85\n",
      "86\n",
      "87\n",
      "88\n",
      "89\n",
      "90\n",
      "91\n",
      "92\n",
      "93\n",
      "94\n",
      "17\n",
      "17.92828685258964\n",
      "502\n",
      "(8534, 256, 256, 1)\n",
      "1\n",
      "2\n",
      "3\n",
      "4\n",
      "5\n",
      "6\n",
      "7\n",
      "8\n",
      "9\n",
      "10\n",
      "11\n",
      "12\n",
      "13\n",
      "14\n",
      "15\n",
      "16\n",
      "17\n"
     ]
    }
   ],
   "source": [
    "train_pos_x, train_pos_y  = data_gen(train_pos2, pos=True)\n",
    "train_neg_x, train_neg_y = data_gen(train_neg2, pos=False)"
   ]
  },
  {
   "cell_type": "code",
   "execution_count": 21,
   "metadata": {},
   "outputs": [],
   "source": [
    "def balance_classes(x1, x2, y1, y2):\n",
    "    class1 = x1.shape[0]\n",
    "    class2 = x2.shape[0]\n",
    "    \n",
    "    if class1 > class2:\n",
    "        shp = class2\n",
    "    \n",
    "    elif class1 < class2:\n",
    "        shp = class1\n",
    "    \n",
    "    elif class1 == class2:\n",
    "        shp = class1\n",
    "    \n",
    "    print (\"slice\")\n",
    "    x1 = x1[:shp, :, :, :] \n",
    "    x2 = x2[:shp, :, :, :] \n",
    "    y1 = y1[:shp]\n",
    "    y2 = y2[:shp]\n",
    "    \n",
    "    return x1, x2, y1, y2"
   ]
  },
  {
   "cell_type": "code",
   "execution_count": 22,
   "metadata": {},
   "outputs": [],
   "source": [
    "def shuffle_classes(x1, x2, y1, y2):\n",
    "    print (\"stack\")\n",
    "    x_stack = np.vstack((x1, x2))\n",
    "    y_stack =  np.concatenate((y1, y2), axis=0)\n",
    "    \n",
    "    print ('start')    \n",
    "    x, y = shuffle(x_stack, y_stack, random_state = 0)\n",
    "    print ('stop')\n",
    "    return x, y\n",
    "    "
   ]
  },
  {
   "cell_type": "code",
   "execution_count": 23,
   "metadata": {},
   "outputs": [
    {
     "name": "stdout",
     "output_type": "stream",
     "text": [
      "slice\n"
     ]
    }
   ],
   "source": [
    "train_pos_x, train_neg_x, train_pos_y, train_neg_y = balance_classes(train_pos_x, train_neg_x, train_pos_y, train_neg_y)"
   ]
  },
  {
   "cell_type": "code",
   "execution_count": 24,
   "metadata": {},
   "outputs": [
    {
     "data": {
      "text/plain": [
       "(8534, 256, 256, 1)"
      ]
     },
     "execution_count": 24,
     "metadata": {},
     "output_type": "execute_result"
    }
   ],
   "source": [
    "train_pos_x.shape"
   ]
  },
  {
   "cell_type": "code",
   "execution_count": 25,
   "metadata": {},
   "outputs": [
    {
     "name": "stdout",
     "output_type": "stream",
     "text": [
      "stack\n",
      "start\n",
      "stop\n"
     ]
    }
   ],
   "source": [
    "pro_train_x, pro_train_y = shuffle_classes(train_pos_x, train_neg_x, train_pos_y, train_neg_y)"
   ]
  },
  {
   "cell_type": "code",
   "execution_count": 26,
   "metadata": {},
   "outputs": [],
   "source": [
    "train_pos_x = None\n",
    "train_pos_y = None\n",
    "train_neg_x = None\n",
    "train_neg_y = None"
   ]
  },
  {
   "cell_type": "code",
   "execution_count": 27,
   "metadata": {},
   "outputs": [],
   "source": [
    "nb_train  = pro_train_x.shape[0]\n",
    "pro_train_x = np.reshape(pro_train_x, (pro_train_x.shape[0], pro_train_x.shape[1], pro_train_x.shape[2])) + (10e-10)*np.random.randn(nb_train, 256, 256)"
   ]
  },
  {
   "cell_type": "code",
   "execution_count": null,
   "metadata": {},
   "outputs": [],
   "source": [
    "with open('train_x_fr2.dat', 'wb') as f:\n",
    "    pickle.dump(pro_train_x, f, protocol=-1)"
   ]
  },
  {
   "cell_type": "code",
   "execution_count": null,
   "metadata": {},
   "outputs": [],
   "source": [
    "pro_train_x = None"
   ]
  },
  {
   "cell_type": "code",
   "execution_count": null,
   "metadata": {},
   "outputs": [],
   "source": [
    "test_neg_x, test_neg_y  = data_gen(test_neg2, pos=False)\n",
    "test_pos_x, test_pos_y = data_gen(test_pos2, pos=True)"
   ]
  },
  {
   "cell_type": "code",
   "execution_count": null,
   "metadata": {},
   "outputs": [],
   "source": [
    "test_pos_x, test_neg_x, test_pos_y, test_neg_y = balance_classes(test_pos_x, test_neg_x, test_pos_y, test_neg_y)"
   ]
  },
  {
   "cell_type": "code",
   "execution_count": null,
   "metadata": {},
   "outputs": [],
   "source": [
    "pro_test_x, pro_test_y = shuffle_classes(test_pos_x, test_neg_x, test_pos_y, test_neg_y)"
   ]
  },
  {
   "cell_type": "code",
   "execution_count": null,
   "metadata": {},
   "outputs": [],
   "source": [
    "test_pos_x = None\n",
    "test_pos_y = None\n",
    "test_neg_x = None\n",
    "test_neg_y = None"
   ]
  },
  {
   "cell_type": "code",
   "execution_count": null,
   "metadata": {},
   "outputs": [],
   "source": [
    "nb_test  = pro_test_x.shape[0]\n",
    "pro_test_x = np.reshape(pro_test_x, (pro_test_x.shape[0], pro_test_x.shape[1], pro_test_x.shape[2])) + (10e-10)*np.random.randn(nb_test, 256, 256)"
   ]
  },
  {
   "cell_type": "code",
   "execution_count": null,
   "metadata": {},
   "outputs": [],
   "source": [
    "with open('test_x_fr2.dat', 'wb') as f:\n",
    "    pickle.dump(pro_test_x, f, protocol=-1)"
   ]
  },
  {
   "cell_type": "code",
   "execution_count": null,
   "metadata": {},
   "outputs": [],
   "source": [
    "pro_test_x = None"
   ]
  },
  {
   "cell_type": "code",
   "execution_count": null,
   "metadata": {},
   "outputs": [],
   "source": [
    "with open('train_y_fr2.dat', 'wb') as f:\n",
    "    pickle.dump(pro_train_y, f, protocol=-1)    \n",
    "\n",
    "with open('test_y_fr2.dat', 'wb') as f:\n",
    "    pickle.dump(pro_test_y, f, protocol=-1)"
   ]
  },
  {
   "cell_type": "code",
   "execution_count": null,
   "metadata": {},
   "outputs": [],
   "source": [
    "print (\"Done\")"
   ]
  }
 ],
 "metadata": {
  "kernelspec": {
   "display_name": "Python [default]",
   "language": "python",
   "name": "python3"
  },
  "language_info": {
   "codemirror_mode": {
    "name": "ipython",
    "version": 3
   },
   "file_extension": ".py",
   "mimetype": "text/x-python",
   "name": "python",
   "nbconvert_exporter": "python",
   "pygments_lexer": "ipython3",
   "version": "3.6.4"
  }
 },
 "nbformat": 4,
 "nbformat_minor": 2
}
