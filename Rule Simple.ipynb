{
 "cells": [
  {
   "cell_type": "code",
   "execution_count": 1,
   "metadata": {},
   "outputs": [],
   "source": [
    "import os\n",
    "import numpy as np\n",
    "import pandas as pd\n",
    "import matplotlib\n",
    "from matplotlib import pylab, mlab, pyplot\n",
    "from scipy.misc import *\n",
    "import h5py\n",
    "from pylab import *\n",
    "from numpy import *\n",
    "from IPython.core.pylabtools import figsize, getfigs\n",
    "import matplotlib.pyplot as plt\n",
    "from sklearn.cluster import KMeans\n",
    "from scipy.ndimage.filters import maximum_filter\n",
    "from scipy.ndimage.morphology import generate_binary_structure, binary_erosion\n",
    "from scipy import signal as sg\n",
    "import matplotlib.pyplot as plt\n",
    "from scipy import ndimage as ndi\n",
    "from skimage.feature import peak_local_max\n",
    "from skimage import data, img_as_float"
   ]
  },
  {
   "cell_type": "code",
   "execution_count": 2,
   "metadata": {},
   "outputs": [],
   "source": [
    "# Setting directory paths \n",
    "root_dir = os.getcwd()\n",
    "\n",
    "# Loading data\n",
    "data = h5py.File(r'C:\\\\Users\\\\fires\\\\Desktop\\\\CSIRO\\\\thursday\\\\data.h5', 'r')\n",
    "\n",
    "images = np.asarray(data['images'])\n",
    "labels = data['labels']"
   ]
  },
  {
   "cell_type": "code",
   "execution_count": 3,
   "metadata": {},
   "outputs": [],
   "source": [
    "# Define function to crop off 'cut' number of pixels on both sides on both axixs\n",
    "def crop_center(img,cut):\n",
    "    y = np.shape(img)[1]\n",
    "    x = np.shape(img)[2]\n",
    "    if x != y:\n",
    "        print (\"The image is not a perfect sqaure. This is bad. Fix it \")\n",
    "        \n",
    "    start = cut\n",
    "    end = x-cut\n",
    "    return img[:, start:end,start:end]"
   ]
  },
  {
   "cell_type": "code",
   "execution_count": 4,
   "metadata": {},
   "outputs": [],
   "source": [
    "# Reducing Image Size\n",
    "images_cut = crop_center(images,66)\n",
    "images_cut = np.asarray(images_cut)"
   ]
  },
  {
   "cell_type": "code",
   "execution_count": 5,
   "metadata": {},
   "outputs": [],
   "source": [
    "count = 0\n",
    "\n",
    "# convolving images in both x and y directions\n",
    "for i, image in enumerate(images):\n",
    "    # horizonal gradient of image\n",
    "    grad_h = sg.convolve2d(image, [[-1, 0, 1],\n",
    "                                      [-1, 0, 1],\n",
    "                                      [-1, 0, 1]])\n",
    "    # vertical gradient of image\n",
    "    grad_y = sg.convolve2d(image, [[-1, -1, -1],\n",
    "                                      [0, 0, 0],\n",
    "                                      [1, 1, 1]])\n",
    "    \n",
    "    # combining x and y gradients by calculating the magnitude\n",
    "    grad_mag = np.sqrt(np.power(grad_h, 2)+np.power(grad_y, 2))\n",
    "    \n",
    "    if count == 0:\n",
    "        images_mag = np.expand_dims(grad_mag, axis=0)\n",
    "        \n",
    "    else:\n",
    "        images_mag = np.vstack((images_mag,  np.expand_dims(grad_mag, axis=0)))\n",
    "        \n",
    "    count += 1  "
   ]
  },
  {
   "cell_type": "code",
   "execution_count": 6,
   "metadata": {},
   "outputs": [],
   "source": [
    "mean_grads = []\n",
    "\n",
    "# finding the average gradient magnitude for each image\n",
    "for i, image in enumerate(images_mag):\n",
    "    mean = np.mean(image)\n",
    "    mean_grads.append(mean)\n",
    "    \n",
    "mean_grads = np.asarray(mean_grads)"
   ]
  },
  {
   "cell_type": "code",
   "execution_count": 7,
   "metadata": {},
   "outputs": [],
   "source": [
    "FR1_means = []\n",
    "FR2_means = []\n",
    "\n",
    "# sorting means into FR1 and FR2 groups\n",
    "for i, mean in enumerate(mean_grads):\n",
    "    if labels[i] == False:\n",
    "        FR1_means.append(mean)\n",
    "    elif labels[i] == True:\n",
    "        FR2_means.append(mean)\n",
    "    else:\n",
    "        print (\"error\")\n",
    "\n",
    "# finding the mean mean for each class\n",
    "FR1_mean = np.mean(np.asarray(FR1_means))\n",
    "FR2_mean = np.mean(np.asarray(FR2_means))\n",
    "\n",
    "# total mean\n",
    "mean_total = (FR1_mean + FR2_mean)/2"
   ]
  },
  {
   "cell_type": "code",
   "execution_count": 14,
   "metadata": {},
   "outputs": [
    {
     "name": "stdout",
     "output_type": "stream",
     "text": [
      "Balanced Accuracy: 0.5329390418367703\n",
      "Recall: 0.35772357723577236\n",
      "Accuracy: 0.5870786516853933\n",
      "F1 Score: 0.37446808510638296\n",
      "Confusion Matrix\n",
      "[[  44.   68.]\n",
      " [ 165.   79.]]\n",
      "Precision: 0.39285714285714285\n"
     ]
    }
   ],
   "source": [
    "tp = 0\n",
    "tn = 0\n",
    "fn = 0\n",
    "fp = 0\n",
    "\n",
    "# classifing by comparing image mean to total mean\n",
    "for i, mean in enumerate(mean_grads):\n",
    "    #if the image mean is above the mean_total then prediction is FR-II\n",
    "    #if the image mean is below the mean_total then prediction is FR-I  \n",
    "    \n",
    "    #true = FR-II\n",
    "    #false = FR-1\n",
    "    if mean >  mean_total and labels[i] == True:\n",
    "        tp += 1\n",
    "         \n",
    "    elif mean >  mean_total and labels[i] == False:\n",
    "        fp += 1\n",
    "    \n",
    "    elif mean <  mean_total and labels[i] == True:\n",
    "        fn += 1\n",
    "    \n",
    "    elif mean <  mean_total and labels[i] == False:\n",
    "        tn += 1\n",
    "\n",
    "# calculating balanced accuracy\n",
    "accuracy_bal = (((tp)/len(FR2_means)) + ((tn)/len(FR1_means)))/2\n",
    "\n",
    "print (\"Balanced Accuracy: \" + str(accuracy_bal))\n",
    "\n",
    "recall = tp/(tp+fn)\n",
    "print (\"Recall: \" + str(recall))\n",
    "\n",
    "accuracy = (tp+tn)/np.shape(images)[0]\n",
    "print (\"Accuracy: \" + str(accuracy))\n",
    "\n",
    "F1 = (2*tp)/(2*tp+fp+fn)\n",
    "print (\"F1 Score: \" + str(F1))\n",
    "\n",
    "conf = np.zeros((2, 2))\n",
    "conf[0, 0] = tp\n",
    "conf[0, 1] = fp\n",
    "conf[1, 0] = tn\n",
    "conf[1, 1] = fn\n",
    "\n",
    "print (\"Confusion Matrix\")\n",
    "print (conf)\n",
    "       \n",
    "\n",
    "try:\n",
    "    precision = tp/(tp+fp)\n",
    "    print (\"Precision: \" + str(precision))\n",
    "\n",
    "except:\n",
    "    print ('Precision not defined')"
   ]
  },
  {
   "cell_type": "code",
   "execution_count": null,
   "metadata": {},
   "outputs": [],
   "source": [
    "\"\"\"\n",
    "for n in range(0, images_mag.shape[0]):\n",
    "   pyplot.imshow(images_mag[n,:,:], cmap='gray', shape=(267, 267))\n",
    "   print (n)\n",
    "   print (labels[n])\n",
    "   plt.show()\n",
    "\"\"\""
   ]
  }
 ],
 "metadata": {
  "kernelspec": {
   "display_name": "Python 3",
   "language": "python",
   "name": "python3"
  }
 },
 "nbformat": 4,
 "nbformat_minor": 2
}
