{
 "cells": [
  {
   "cell_type": "code",
   "execution_count": 7,
   "metadata": {},
   "outputs": [],
   "source": [
    "import numpy as np\n",
    "import h5py"
   ]
  },
  {
   "cell_type": "code",
   "execution_count": 8,
   "metadata": {},
   "outputs": [],
   "source": [
    "data = h5py.File(r'C:\\\\Users\\\\fires\\\\Desktop\\\\CSIRO\\\\thursday\\\\data.h5', 'r')\n",
    "\n",
    "images = data['images']\n",
    "labels = data['labels']"
   ]
  },
  {
   "cell_type": "code",
   "execution_count": 9,
   "metadata": {},
   "outputs": [],
   "source": [
    "def classify(image):\n",
    "  \"\"\"Given an image of a radio source, determines the probability it is an FR-II.\n",
    "\n",
    "  Parameters\n",
    "  -----------\n",
    "  image : numpy.ndarray\n",
    "    The image to classify.\n",
    "\n",
    "  Returns\n",
    "  --------\n",
    "  float\n",
    "    Probability that the image is an FR-II.\n",
    "  \"\"\"\n",
    "  return 0.0"
   ]
  },
  {
   "cell_type": "code",
   "execution_count": 40,
   "metadata": {},
   "outputs": [
    {
     "name": "stdout",
     "output_type": "stream",
     "text": [
      "Recall: 0.0\n",
      "Accuracy: 0.6544943820224719\n",
      "F1 Score: 0.0\n",
      "Confusion Matrix\n",
      "[[   0.    0.]\n",
      " [ 233.  123.]]\n",
      "Precision not defined\n"
     ]
    }
   ],
   "source": [
    "tp = 0\n",
    "tn = 0\n",
    "fn = 0\n",
    "fp = 0\n",
    "\n",
    "\n",
    "for i, image in enumerate(images):\n",
    "    prediction = classify(image)\n",
    "    \n",
    "    if prediction == 1.0 and labels[i] == True:\n",
    "        tp += 1\n",
    "               \n",
    "    elif prediction == 1.0 and labels[i] == False:\n",
    "        fp += 1\n",
    "    \n",
    "    elif prediction == 0.0 and labels[i] == True:\n",
    "        fn += 1\n",
    "    \n",
    "    elif prediction == 0.0 and labels[i] == False:\n",
    "        tn += 1\n",
    "\n",
    "        \n",
    "recall = tp/(tp+fn)\n",
    "print (\"Recall: \" + str(recall))\n",
    "\n",
    "accuracy = (tp+tn)/np.shape(images)[0]\n",
    "print (\"Accuracy: \" + str(accuracy))\n",
    "\n",
    "F1 = (2*tp)/(2*tp+fp+fn)\n",
    "print (\"F1 Score: \" + str(F1))\n",
    "\n",
    "conf = np.zeros((2, 2))\n",
    "conf[0, 0] = tp\n",
    "conf[0, 1] = fp\n",
    "conf[1, 0] = tn\n",
    "conf[1, 1] = fn\n",
    "\n",
    "print (\"Confusion Matrix\")\n",
    "print (conf)\n",
    "       \n",
    "\n",
    "\n",
    "try:\n",
    "    precision = tp/(tp+fp)\n",
    "    print (precision)\n",
    "\n",
    "except:\n",
    "    print ('Precision not defined')"
   ]
  },
  {
   "cell_type": "code",
   "execution_count": null,
   "metadata": {},
   "outputs": [],
   "source": []
  }
 ],
 "metadata": {
  "kernelspec": {
   "display_name": "Python 3",
   "language": "python",
   "name": "python3"
  },
  "language_info": {
   "codemirror_mode": {
    "name": "ipython",
    "version": 3
   },
   "file_extension": ".py",
   "mimetype": "text/x-python",
   "name": "python",
   "nbconvert_exporter": "python",
   "pygments_lexer": "ipython3",
   "version": "3.6.4"
  }
 },
 "nbformat": 4,
 "nbformat_minor": 2
}
